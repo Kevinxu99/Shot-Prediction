{
 "cells": [
  {
   "cell_type": "code",
   "execution_count": 1,
   "metadata": {},
   "outputs": [],
   "source": [
    "import numpy as np\n",
    "import pandas as pd\n",
    "import matplotlib\n",
    "import matplotlib.pyplot as plt"
   ]
  },
  {
   "cell_type": "markdown",
   "metadata": {},
   "source": [
    "### 2014-2015 NBA season shot logs: https://www.kaggle.com/dansbecker/nba-shot-logs\n",
    "### 2014-2015 NBA season player stats: https://www.kaggle.com/drgilermo/nba-players-stats-20142015\n",
    "#### Players' missing height and weight fields were manually entered with data found on https://www.basketball-reference.com/"
   ]
  },
  {
   "cell_type": "code",
   "execution_count": 271,
   "metadata": {},
   "outputs": [],
   "source": [
    "\"\"\"\n",
    "    load the data\n",
    "\"\"\"\n",
    "players_stats = pd.read_csv(\"players_stats.csv\")\n",
    "shot_logs = pd.read_csv(\"shot_logs.csv\")"
   ]
  },
  {
   "cell_type": "code",
   "execution_count": 314,
   "metadata": {
    "collapsed": true
   },
   "outputs": [
    {
     "data": {
      "text/html": [
       "<div>\n",
       "<style scoped>\n",
       "    .dataframe tbody tr th:only-of-type {\n",
       "        vertical-align: middle;\n",
       "    }\n",
       "\n",
       "    .dataframe tbody tr th {\n",
       "        vertical-align: top;\n",
       "    }\n",
       "\n",
       "    .dataframe thead th {\n",
       "        text-align: right;\n",
       "    }\n",
       "</style>\n",
       "<table border=\"1\" class=\"dataframe\">\n",
       "  <thead>\n",
       "    <tr style=\"text-align: right;\">\n",
       "      <th></th>\n",
       "      <th>Name</th>\n",
       "      <th>Games Played</th>\n",
       "      <th>MIN</th>\n",
       "      <th>PTS</th>\n",
       "      <th>FGM</th>\n",
       "      <th>FGA</th>\n",
       "      <th>FG%</th>\n",
       "      <th>3PM</th>\n",
       "      <th>3PA</th>\n",
       "      <th>3P%</th>\n",
       "      <th>...</th>\n",
       "      <th>Age</th>\n",
       "      <th>Birth_Place</th>\n",
       "      <th>Birthdate</th>\n",
       "      <th>Collage</th>\n",
       "      <th>Experience</th>\n",
       "      <th>Height</th>\n",
       "      <th>Pos</th>\n",
       "      <th>Team</th>\n",
       "      <th>Weight</th>\n",
       "      <th>BMI</th>\n",
       "    </tr>\n",
       "  </thead>\n",
       "  <tbody>\n",
       "    <tr>\n",
       "      <td>0</td>\n",
       "      <td>AJ PRICE</td>\n",
       "      <td>26</td>\n",
       "      <td>12.5</td>\n",
       "      <td>5.1</td>\n",
       "      <td>51</td>\n",
       "      <td>137</td>\n",
       "      <td>37.2</td>\n",
       "      <td>15</td>\n",
       "      <td>57</td>\n",
       "      <td>26.3</td>\n",
       "      <td>...</td>\n",
       "      <td>29.0</td>\n",
       "      <td>us</td>\n",
       "      <td>7-Oct-86</td>\n",
       "      <td>University of Connecticut</td>\n",
       "      <td>5</td>\n",
       "      <td>185.0</td>\n",
       "      <td>PG</td>\n",
       "      <td>PHO</td>\n",
       "      <td>81.45</td>\n",
       "      <td>23.798393</td>\n",
       "    </tr>\n",
       "    <tr>\n",
       "      <td>1</td>\n",
       "      <td>AARON BROOKS</td>\n",
       "      <td>82</td>\n",
       "      <td>23.0</td>\n",
       "      <td>11.6</td>\n",
       "      <td>344</td>\n",
       "      <td>817</td>\n",
       "      <td>42.1</td>\n",
       "      <td>121</td>\n",
       "      <td>313</td>\n",
       "      <td>38.7</td>\n",
       "      <td>...</td>\n",
       "      <td>30.0</td>\n",
       "      <td>us</td>\n",
       "      <td>14-Jan-85</td>\n",
       "      <td>University of Oregon</td>\n",
       "      <td>6</td>\n",
       "      <td>180.0</td>\n",
       "      <td>PG</td>\n",
       "      <td>CHI</td>\n",
       "      <td>72.45</td>\n",
       "      <td>22.361111</td>\n",
       "    </tr>\n",
       "    <tr>\n",
       "      <td>2</td>\n",
       "      <td>AARON GORDON</td>\n",
       "      <td>47</td>\n",
       "      <td>17.0</td>\n",
       "      <td>5.2</td>\n",
       "      <td>93</td>\n",
       "      <td>208</td>\n",
       "      <td>44.7</td>\n",
       "      <td>13</td>\n",
       "      <td>48</td>\n",
       "      <td>27.1</td>\n",
       "      <td>...</td>\n",
       "      <td>20.0</td>\n",
       "      <td>us</td>\n",
       "      <td>16-Sep-95</td>\n",
       "      <td>University of Arizona</td>\n",
       "      <td>R</td>\n",
       "      <td>202.5</td>\n",
       "      <td>PF</td>\n",
       "      <td>ORL</td>\n",
       "      <td>99.00</td>\n",
       "      <td>24.142661</td>\n",
       "    </tr>\n",
       "    <tr>\n",
       "      <td>3</td>\n",
       "      <td>ADREIAN PAYNE</td>\n",
       "      <td>32</td>\n",
       "      <td>23.1</td>\n",
       "      <td>6.7</td>\n",
       "      <td>91</td>\n",
       "      <td>220</td>\n",
       "      <td>41.4</td>\n",
       "      <td>1</td>\n",
       "      <td>9</td>\n",
       "      <td>11.1</td>\n",
       "      <td>...</td>\n",
       "      <td>24.0</td>\n",
       "      <td>us</td>\n",
       "      <td>19-Feb-91</td>\n",
       "      <td>Michigan State University</td>\n",
       "      <td>R</td>\n",
       "      <td>205.0</td>\n",
       "      <td>PF</td>\n",
       "      <td>ATL</td>\n",
       "      <td>106.65</td>\n",
       "      <td>25.377751</td>\n",
       "    </tr>\n",
       "    <tr>\n",
       "      <td>4</td>\n",
       "      <td>AL HORFORD</td>\n",
       "      <td>76</td>\n",
       "      <td>30.5</td>\n",
       "      <td>15.2</td>\n",
       "      <td>519</td>\n",
       "      <td>965</td>\n",
       "      <td>53.8</td>\n",
       "      <td>11</td>\n",
       "      <td>36</td>\n",
       "      <td>30.6</td>\n",
       "      <td>...</td>\n",
       "      <td>29.0</td>\n",
       "      <td>do</td>\n",
       "      <td>3-Jun-86</td>\n",
       "      <td>University of Florida</td>\n",
       "      <td>7</td>\n",
       "      <td>205.0</td>\n",
       "      <td>C</td>\n",
       "      <td>ATL</td>\n",
       "      <td>110.25</td>\n",
       "      <td>26.234384</td>\n",
       "    </tr>\n",
       "    <tr>\n",
       "      <td>...</td>\n",
       "      <td>...</td>\n",
       "      <td>...</td>\n",
       "      <td>...</td>\n",
       "      <td>...</td>\n",
       "      <td>...</td>\n",
       "      <td>...</td>\n",
       "      <td>...</td>\n",
       "      <td>...</td>\n",
       "      <td>...</td>\n",
       "      <td>...</td>\n",
       "      <td>...</td>\n",
       "      <td>...</td>\n",
       "      <td>...</td>\n",
       "      <td>...</td>\n",
       "      <td>...</td>\n",
       "      <td>...</td>\n",
       "      <td>...</td>\n",
       "      <td>...</td>\n",
       "      <td>...</td>\n",
       "      <td>...</td>\n",
       "      <td>...</td>\n",
       "    </tr>\n",
       "    <tr>\n",
       "      <td>485</td>\n",
       "      <td>XAVIER HENRY</td>\n",
       "      <td>9</td>\n",
       "      <td>9.6</td>\n",
       "      <td>2.2</td>\n",
       "      <td>3</td>\n",
       "      <td>13</td>\n",
       "      <td>23.1</td>\n",
       "      <td>0</td>\n",
       "      <td>0</td>\n",
       "      <td>0.0</td>\n",
       "      <td>...</td>\n",
       "      <td>24.0</td>\n",
       "      <td>be</td>\n",
       "      <td>15-Mar-91</td>\n",
       "      <td>University of Kansas</td>\n",
       "      <td>4</td>\n",
       "      <td>195.0</td>\n",
       "      <td>SF</td>\n",
       "      <td>LAL</td>\n",
       "      <td>99.00</td>\n",
       "      <td>26.035503</td>\n",
       "    </tr>\n",
       "    <tr>\n",
       "      <td>486</td>\n",
       "      <td>ZACH LAVINE</td>\n",
       "      <td>77</td>\n",
       "      <td>24.7</td>\n",
       "      <td>10.1</td>\n",
       "      <td>286</td>\n",
       "      <td>677</td>\n",
       "      <td>42.2</td>\n",
       "      <td>57</td>\n",
       "      <td>167</td>\n",
       "      <td>34.1</td>\n",
       "      <td>...</td>\n",
       "      <td>20.0</td>\n",
       "      <td>us</td>\n",
       "      <td>10-Mar-95</td>\n",
       "      <td>University of California, Los Angeles</td>\n",
       "      <td>R</td>\n",
       "      <td>192.5</td>\n",
       "      <td>PG</td>\n",
       "      <td>MIN</td>\n",
       "      <td>85.05</td>\n",
       "      <td>22.951594</td>\n",
       "    </tr>\n",
       "    <tr>\n",
       "      <td>487</td>\n",
       "      <td>ZACH RANDOLPH</td>\n",
       "      <td>71</td>\n",
       "      <td>32.5</td>\n",
       "      <td>16.1</td>\n",
       "      <td>454</td>\n",
       "      <td>932</td>\n",
       "      <td>48.7</td>\n",
       "      <td>7</td>\n",
       "      <td>20</td>\n",
       "      <td>35.0</td>\n",
       "      <td>...</td>\n",
       "      <td>34.0</td>\n",
       "      <td>us</td>\n",
       "      <td>16-Jul-81</td>\n",
       "      <td>Michigan State University</td>\n",
       "      <td>13</td>\n",
       "      <td>202.5</td>\n",
       "      <td>PF</td>\n",
       "      <td>MEM</td>\n",
       "      <td>117.00</td>\n",
       "      <td>28.532236</td>\n",
       "    </tr>\n",
       "    <tr>\n",
       "      <td>488</td>\n",
       "      <td>ZAZA PACHULIA</td>\n",
       "      <td>73</td>\n",
       "      <td>23.7</td>\n",
       "      <td>8.3</td>\n",
       "      <td>240</td>\n",
       "      <td>529</td>\n",
       "      <td>45.4</td>\n",
       "      <td>0</td>\n",
       "      <td>3</td>\n",
       "      <td>0.0</td>\n",
       "      <td>...</td>\n",
       "      <td>31.0</td>\n",
       "      <td>ge</td>\n",
       "      <td>10-Feb-84</td>\n",
       "      <td>NaN</td>\n",
       "      <td>11</td>\n",
       "      <td>207.5</td>\n",
       "      <td>C</td>\n",
       "      <td>MIL</td>\n",
       "      <td>121.50</td>\n",
       "      <td>28.218900</td>\n",
       "    </tr>\n",
       "    <tr>\n",
       "      <td>489</td>\n",
       "      <td>ZORAN DRAGIC</td>\n",
       "      <td>16</td>\n",
       "      <td>4.7</td>\n",
       "      <td>1.8</td>\n",
       "      <td>11</td>\n",
       "      <td>30</td>\n",
       "      <td>36.7</td>\n",
       "      <td>3</td>\n",
       "      <td>14</td>\n",
       "      <td>21.4</td>\n",
       "      <td>...</td>\n",
       "      <td>26.0</td>\n",
       "      <td>si</td>\n",
       "      <td>22-Jun-89</td>\n",
       "      <td>NaN</td>\n",
       "      <td>R</td>\n",
       "      <td>192.5</td>\n",
       "      <td>SG</td>\n",
       "      <td>PHO</td>\n",
       "      <td>90.00</td>\n",
       "      <td>24.287401</td>\n",
       "    </tr>\n",
       "  </tbody>\n",
       "</table>\n",
       "<p>490 rows × 34 columns</p>\n",
       "</div>"
      ],
      "text/plain": [
       "              Name  Games Played   MIN   PTS  FGM  FGA   FG%  3PM  3PA   3P%  \\\n",
       "0         AJ PRICE            26  12.5   5.1   51  137  37.2   15   57  26.3   \n",
       "1     AARON BROOKS            82  23.0  11.6  344  817  42.1  121  313  38.7   \n",
       "2     AARON GORDON            47  17.0   5.2   93  208  44.7   13   48  27.1   \n",
       "3    ADREIAN PAYNE            32  23.1   6.7   91  220  41.4    1    9  11.1   \n",
       "4       AL HORFORD            76  30.5  15.2  519  965  53.8   11   36  30.6   \n",
       "..             ...           ...   ...   ...  ...  ...   ...  ...  ...   ...   \n",
       "485   XAVIER HENRY             9   9.6   2.2    3   13  23.1    0    0   0.0   \n",
       "486    ZACH LAVINE            77  24.7  10.1  286  677  42.2   57  167  34.1   \n",
       "487  ZACH RANDOLPH            71  32.5  16.1  454  932  48.7    7   20  35.0   \n",
       "488  ZAZA PACHULIA            73  23.7   8.3  240  529  45.4    0    3   0.0   \n",
       "489   ZORAN DRAGIC            16   4.7   1.8   11   30  36.7    3   14  21.4   \n",
       "\n",
       "     ...   Age  Birth_Place  Birthdate                                Collage  \\\n",
       "0    ...  29.0           us   7-Oct-86              University of Connecticut   \n",
       "1    ...  30.0           us  14-Jan-85                   University of Oregon   \n",
       "2    ...  20.0           us  16-Sep-95                  University of Arizona   \n",
       "3    ...  24.0           us  19-Feb-91              Michigan State University   \n",
       "4    ...  29.0           do   3-Jun-86                  University of Florida   \n",
       "..   ...   ...          ...        ...                                    ...   \n",
       "485  ...  24.0           be  15-Mar-91                   University of Kansas   \n",
       "486  ...  20.0           us  10-Mar-95  University of California, Los Angeles   \n",
       "487  ...  34.0           us  16-Jul-81              Michigan State University   \n",
       "488  ...  31.0           ge  10-Feb-84                                    NaN   \n",
       "489  ...  26.0           si  22-Jun-89                                    NaN   \n",
       "\n",
       "     Experience  Height  Pos  Team  Weight        BMI  \n",
       "0             5   185.0   PG   PHO   81.45  23.798393  \n",
       "1             6   180.0   PG   CHI   72.45  22.361111  \n",
       "2             R   202.5   PF   ORL   99.00  24.142661  \n",
       "3             R   205.0   PF   ATL  106.65  25.377751  \n",
       "4             7   205.0    C   ATL  110.25  26.234384  \n",
       "..          ...     ...  ...   ...     ...        ...  \n",
       "485           4   195.0   SF   LAL   99.00  26.035503  \n",
       "486           R   192.5   PG   MIN   85.05  22.951594  \n",
       "487          13   202.5   PF   MEM  117.00  28.532236  \n",
       "488          11   207.5    C   MIL  121.50  28.218900  \n",
       "489           R   192.5   SG   PHO   90.00  24.287401  \n",
       "\n",
       "[490 rows x 34 columns]"
      ]
     },
     "execution_count": 314,
     "metadata": {},
     "output_type": "execute_result"
    }
   ],
   "source": [
    "players_stats"
   ]
  },
  {
   "cell_type": "code",
   "execution_count": 273,
   "metadata": {
    "collapsed": true
   },
   "outputs": [
    {
     "data": {
      "text/html": [
       "<div>\n",
       "<style scoped>\n",
       "    .dataframe tbody tr th:only-of-type {\n",
       "        vertical-align: middle;\n",
       "    }\n",
       "\n",
       "    .dataframe tbody tr th {\n",
       "        vertical-align: top;\n",
       "    }\n",
       "\n",
       "    .dataframe thead th {\n",
       "        text-align: right;\n",
       "    }\n",
       "</style>\n",
       "<table border=\"1\" class=\"dataframe\">\n",
       "  <thead>\n",
       "    <tr style=\"text-align: right;\">\n",
       "      <th></th>\n",
       "      <th>GAME_ID</th>\n",
       "      <th>MATCHUP</th>\n",
       "      <th>LOCATION</th>\n",
       "      <th>W</th>\n",
       "      <th>FINAL_MARGIN</th>\n",
       "      <th>SHOT_NUMBER</th>\n",
       "      <th>PERIOD</th>\n",
       "      <th>GAME_CLOCK</th>\n",
       "      <th>SHOT_CLOCK</th>\n",
       "      <th>DRIBBLES</th>\n",
       "      <th>...</th>\n",
       "      <th>SHOT_DIST</th>\n",
       "      <th>PTS_TYPE</th>\n",
       "      <th>SHOT_RESULT</th>\n",
       "      <th>CLOSEST_DEFENDER</th>\n",
       "      <th>CLOSEST_DEFENDER_PLAYER_ID</th>\n",
       "      <th>CLOSE_DEF_DIST</th>\n",
       "      <th>FGM</th>\n",
       "      <th>PTS</th>\n",
       "      <th>player_name</th>\n",
       "      <th>player_id</th>\n",
       "    </tr>\n",
       "  </thead>\n",
       "  <tbody>\n",
       "    <tr>\n",
       "      <td>0</td>\n",
       "      <td>21400899</td>\n",
       "      <td>MAR 04, 2015 - CHA @ BKN</td>\n",
       "      <td>A</td>\n",
       "      <td>W</td>\n",
       "      <td>24</td>\n",
       "      <td>1</td>\n",
       "      <td>1</td>\n",
       "      <td>1:09</td>\n",
       "      <td>10.8</td>\n",
       "      <td>2</td>\n",
       "      <td>...</td>\n",
       "      <td>7.7</td>\n",
       "      <td>2</td>\n",
       "      <td>made</td>\n",
       "      <td>Anderson, Alan</td>\n",
       "      <td>101187</td>\n",
       "      <td>1.3</td>\n",
       "      <td>1</td>\n",
       "      <td>2</td>\n",
       "      <td>brian roberts</td>\n",
       "      <td>203148</td>\n",
       "    </tr>\n",
       "    <tr>\n",
       "      <td>1</td>\n",
       "      <td>21400899</td>\n",
       "      <td>MAR 04, 2015 - CHA @ BKN</td>\n",
       "      <td>A</td>\n",
       "      <td>W</td>\n",
       "      <td>24</td>\n",
       "      <td>2</td>\n",
       "      <td>1</td>\n",
       "      <td>0:14</td>\n",
       "      <td>3.4</td>\n",
       "      <td>0</td>\n",
       "      <td>...</td>\n",
       "      <td>28.2</td>\n",
       "      <td>3</td>\n",
       "      <td>missed</td>\n",
       "      <td>Bogdanovic, Bojan</td>\n",
       "      <td>202711</td>\n",
       "      <td>6.1</td>\n",
       "      <td>0</td>\n",
       "      <td>0</td>\n",
       "      <td>brian roberts</td>\n",
       "      <td>203148</td>\n",
       "    </tr>\n",
       "    <tr>\n",
       "      <td>2</td>\n",
       "      <td>21400899</td>\n",
       "      <td>MAR 04, 2015 - CHA @ BKN</td>\n",
       "      <td>A</td>\n",
       "      <td>W</td>\n",
       "      <td>24</td>\n",
       "      <td>3</td>\n",
       "      <td>1</td>\n",
       "      <td>0:00</td>\n",
       "      <td>NaN</td>\n",
       "      <td>3</td>\n",
       "      <td>...</td>\n",
       "      <td>10.1</td>\n",
       "      <td>2</td>\n",
       "      <td>missed</td>\n",
       "      <td>Bogdanovic, Bojan</td>\n",
       "      <td>202711</td>\n",
       "      <td>0.9</td>\n",
       "      <td>0</td>\n",
       "      <td>0</td>\n",
       "      <td>brian roberts</td>\n",
       "      <td>203148</td>\n",
       "    </tr>\n",
       "    <tr>\n",
       "      <td>3</td>\n",
       "      <td>21400899</td>\n",
       "      <td>MAR 04, 2015 - CHA @ BKN</td>\n",
       "      <td>A</td>\n",
       "      <td>W</td>\n",
       "      <td>24</td>\n",
       "      <td>4</td>\n",
       "      <td>2</td>\n",
       "      <td>11:47</td>\n",
       "      <td>10.3</td>\n",
       "      <td>2</td>\n",
       "      <td>...</td>\n",
       "      <td>17.2</td>\n",
       "      <td>2</td>\n",
       "      <td>missed</td>\n",
       "      <td>Brown, Markel</td>\n",
       "      <td>203900</td>\n",
       "      <td>3.4</td>\n",
       "      <td>0</td>\n",
       "      <td>0</td>\n",
       "      <td>brian roberts</td>\n",
       "      <td>203148</td>\n",
       "    </tr>\n",
       "    <tr>\n",
       "      <td>4</td>\n",
       "      <td>21400899</td>\n",
       "      <td>MAR 04, 2015 - CHA @ BKN</td>\n",
       "      <td>A</td>\n",
       "      <td>W</td>\n",
       "      <td>24</td>\n",
       "      <td>5</td>\n",
       "      <td>2</td>\n",
       "      <td>10:34</td>\n",
       "      <td>10.9</td>\n",
       "      <td>2</td>\n",
       "      <td>...</td>\n",
       "      <td>3.7</td>\n",
       "      <td>2</td>\n",
       "      <td>missed</td>\n",
       "      <td>Young, Thaddeus</td>\n",
       "      <td>201152</td>\n",
       "      <td>1.1</td>\n",
       "      <td>0</td>\n",
       "      <td>0</td>\n",
       "      <td>brian roberts</td>\n",
       "      <td>203148</td>\n",
       "    </tr>\n",
       "    <tr>\n",
       "      <td>...</td>\n",
       "      <td>...</td>\n",
       "      <td>...</td>\n",
       "      <td>...</td>\n",
       "      <td>...</td>\n",
       "      <td>...</td>\n",
       "      <td>...</td>\n",
       "      <td>...</td>\n",
       "      <td>...</td>\n",
       "      <td>...</td>\n",
       "      <td>...</td>\n",
       "      <td>...</td>\n",
       "      <td>...</td>\n",
       "      <td>...</td>\n",
       "      <td>...</td>\n",
       "      <td>...</td>\n",
       "      <td>...</td>\n",
       "      <td>...</td>\n",
       "      <td>...</td>\n",
       "      <td>...</td>\n",
       "      <td>...</td>\n",
       "      <td>...</td>\n",
       "    </tr>\n",
       "    <tr>\n",
       "      <td>128064</td>\n",
       "      <td>21400006</td>\n",
       "      <td>OCT 29, 2014 - BKN @ BOS</td>\n",
       "      <td>A</td>\n",
       "      <td>L</td>\n",
       "      <td>-16</td>\n",
       "      <td>5</td>\n",
       "      <td>3</td>\n",
       "      <td>1:52</td>\n",
       "      <td>18.3</td>\n",
       "      <td>5</td>\n",
       "      <td>...</td>\n",
       "      <td>8.7</td>\n",
       "      <td>2</td>\n",
       "      <td>missed</td>\n",
       "      <td>Smart, Marcus</td>\n",
       "      <td>203935</td>\n",
       "      <td>0.8</td>\n",
       "      <td>0</td>\n",
       "      <td>0</td>\n",
       "      <td>jarrett jack</td>\n",
       "      <td>101127</td>\n",
       "    </tr>\n",
       "    <tr>\n",
       "      <td>128065</td>\n",
       "      <td>21400006</td>\n",
       "      <td>OCT 29, 2014 - BKN @ BOS</td>\n",
       "      <td>A</td>\n",
       "      <td>L</td>\n",
       "      <td>-16</td>\n",
       "      <td>6</td>\n",
       "      <td>4</td>\n",
       "      <td>11:28</td>\n",
       "      <td>19.8</td>\n",
       "      <td>4</td>\n",
       "      <td>...</td>\n",
       "      <td>0.6</td>\n",
       "      <td>2</td>\n",
       "      <td>made</td>\n",
       "      <td>Turner, Evan</td>\n",
       "      <td>202323</td>\n",
       "      <td>0.6</td>\n",
       "      <td>1</td>\n",
       "      <td>2</td>\n",
       "      <td>jarrett jack</td>\n",
       "      <td>101127</td>\n",
       "    </tr>\n",
       "    <tr>\n",
       "      <td>128066</td>\n",
       "      <td>21400006</td>\n",
       "      <td>OCT 29, 2014 - BKN @ BOS</td>\n",
       "      <td>A</td>\n",
       "      <td>L</td>\n",
       "      <td>-16</td>\n",
       "      <td>7</td>\n",
       "      <td>4</td>\n",
       "      <td>11:10</td>\n",
       "      <td>23.0</td>\n",
       "      <td>2</td>\n",
       "      <td>...</td>\n",
       "      <td>16.9</td>\n",
       "      <td>2</td>\n",
       "      <td>made</td>\n",
       "      <td>Thornton, Marcus</td>\n",
       "      <td>201977</td>\n",
       "      <td>4.2</td>\n",
       "      <td>1</td>\n",
       "      <td>2</td>\n",
       "      <td>jarrett jack</td>\n",
       "      <td>101127</td>\n",
       "    </tr>\n",
       "    <tr>\n",
       "      <td>128067</td>\n",
       "      <td>21400006</td>\n",
       "      <td>OCT 29, 2014 - BKN @ BOS</td>\n",
       "      <td>A</td>\n",
       "      <td>L</td>\n",
       "      <td>-16</td>\n",
       "      <td>8</td>\n",
       "      <td>4</td>\n",
       "      <td>2:37</td>\n",
       "      <td>9.1</td>\n",
       "      <td>4</td>\n",
       "      <td>...</td>\n",
       "      <td>18.3</td>\n",
       "      <td>2</td>\n",
       "      <td>missed</td>\n",
       "      <td>Bradley, Avery</td>\n",
       "      <td>202340</td>\n",
       "      <td>3.0</td>\n",
       "      <td>0</td>\n",
       "      <td>0</td>\n",
       "      <td>jarrett jack</td>\n",
       "      <td>101127</td>\n",
       "    </tr>\n",
       "    <tr>\n",
       "      <td>128068</td>\n",
       "      <td>21400006</td>\n",
       "      <td>OCT 29, 2014 - BKN @ BOS</td>\n",
       "      <td>A</td>\n",
       "      <td>L</td>\n",
       "      <td>-16</td>\n",
       "      <td>9</td>\n",
       "      <td>4</td>\n",
       "      <td>0:12</td>\n",
       "      <td>NaN</td>\n",
       "      <td>5</td>\n",
       "      <td>...</td>\n",
       "      <td>5.1</td>\n",
       "      <td>2</td>\n",
       "      <td>made</td>\n",
       "      <td>Bradley, Avery</td>\n",
       "      <td>202340</td>\n",
       "      <td>2.3</td>\n",
       "      <td>1</td>\n",
       "      <td>2</td>\n",
       "      <td>jarrett jack</td>\n",
       "      <td>101127</td>\n",
       "    </tr>\n",
       "  </tbody>\n",
       "</table>\n",
       "<p>128069 rows × 21 columns</p>\n",
       "</div>"
      ],
      "text/plain": [
       "         GAME_ID                   MATCHUP LOCATION  W  FINAL_MARGIN  \\\n",
       "0       21400899  MAR 04, 2015 - CHA @ BKN        A  W            24   \n",
       "1       21400899  MAR 04, 2015 - CHA @ BKN        A  W            24   \n",
       "2       21400899  MAR 04, 2015 - CHA @ BKN        A  W            24   \n",
       "3       21400899  MAR 04, 2015 - CHA @ BKN        A  W            24   \n",
       "4       21400899  MAR 04, 2015 - CHA @ BKN        A  W            24   \n",
       "...          ...                       ...      ... ..           ...   \n",
       "128064  21400006  OCT 29, 2014 - BKN @ BOS        A  L           -16   \n",
       "128065  21400006  OCT 29, 2014 - BKN @ BOS        A  L           -16   \n",
       "128066  21400006  OCT 29, 2014 - BKN @ BOS        A  L           -16   \n",
       "128067  21400006  OCT 29, 2014 - BKN @ BOS        A  L           -16   \n",
       "128068  21400006  OCT 29, 2014 - BKN @ BOS        A  L           -16   \n",
       "\n",
       "        SHOT_NUMBER  PERIOD GAME_CLOCK  SHOT_CLOCK  DRIBBLES  ...  SHOT_DIST  \\\n",
       "0                 1       1       1:09        10.8         2  ...        7.7   \n",
       "1                 2       1       0:14         3.4         0  ...       28.2   \n",
       "2                 3       1       0:00         NaN         3  ...       10.1   \n",
       "3                 4       2      11:47        10.3         2  ...       17.2   \n",
       "4                 5       2      10:34        10.9         2  ...        3.7   \n",
       "...             ...     ...        ...         ...       ...  ...        ...   \n",
       "128064            5       3       1:52        18.3         5  ...        8.7   \n",
       "128065            6       4      11:28        19.8         4  ...        0.6   \n",
       "128066            7       4      11:10        23.0         2  ...       16.9   \n",
       "128067            8       4       2:37         9.1         4  ...       18.3   \n",
       "128068            9       4       0:12         NaN         5  ...        5.1   \n",
       "\n",
       "        PTS_TYPE  SHOT_RESULT   CLOSEST_DEFENDER CLOSEST_DEFENDER_PLAYER_ID  \\\n",
       "0              2         made     Anderson, Alan                     101187   \n",
       "1              3       missed  Bogdanovic, Bojan                     202711   \n",
       "2              2       missed  Bogdanovic, Bojan                     202711   \n",
       "3              2       missed      Brown, Markel                     203900   \n",
       "4              2       missed    Young, Thaddeus                     201152   \n",
       "...          ...          ...                ...                        ...   \n",
       "128064         2       missed      Smart, Marcus                     203935   \n",
       "128065         2         made       Turner, Evan                     202323   \n",
       "128066         2         made   Thornton, Marcus                     201977   \n",
       "128067         2       missed     Bradley, Avery                     202340   \n",
       "128068         2         made     Bradley, Avery                     202340   \n",
       "\n",
       "        CLOSE_DEF_DIST  FGM  PTS    player_name player_id  \n",
       "0                  1.3    1    2  brian roberts    203148  \n",
       "1                  6.1    0    0  brian roberts    203148  \n",
       "2                  0.9    0    0  brian roberts    203148  \n",
       "3                  3.4    0    0  brian roberts    203148  \n",
       "4                  1.1    0    0  brian roberts    203148  \n",
       "...                ...  ...  ...            ...       ...  \n",
       "128064             0.8    0    0   jarrett jack    101127  \n",
       "128065             0.6    1    2   jarrett jack    101127  \n",
       "128066             4.2    1    2   jarrett jack    101127  \n",
       "128067             3.0    0    0   jarrett jack    101127  \n",
       "128068             2.3    1    2   jarrett jack    101127  \n",
       "\n",
       "[128069 rows x 21 columns]"
      ]
     },
     "execution_count": 273,
     "metadata": {},
     "output_type": "execute_result"
    }
   ],
   "source": [
    "shot_logs"
   ]
  },
  {
   "cell_type": "code",
   "execution_count": 13,
   "metadata": {},
   "outputs": [
    {
     "data": {
      "text/plain": [
       "array(['Name', 'Games Played', 'MIN', 'PTS', 'FGM', 'FGA', 'FG%', '3PM',\n",
       "       '3PA', '3P%', 'FTM', 'FTA', 'FT%', 'OREB', 'DREB', 'REB', 'AST',\n",
       "       'STL', 'BLK', 'TOV', 'PF', 'EFF', 'AST/TOV', 'STL/TOV', 'Age',\n",
       "       'Birth_Place', 'Birthdate', 'Collage', 'Experience', 'Height',\n",
       "       'Pos', 'Team', 'Weight', 'BMI'], dtype=object)"
      ]
     },
     "execution_count": 13,
     "metadata": {},
     "output_type": "execute_result"
    }
   ],
   "source": [
    "players_stats.columns.values"
   ]
  },
  {
   "cell_type": "code",
   "execution_count": 274,
   "metadata": {},
   "outputs": [],
   "source": [
    "\"\"\"\n",
    "    Convert the stats from totals to per game (round to one decimal place)\n",
    "\"\"\"\n",
    "per_game_stats = ['MIN','PTS','OREB','DREB','REB','AST','STL','BLK','TOV','PF','EFF']\n",
    "players_stats[per_game_stats] = players_stats[per_game_stats].div(players_stats['Games Played'], axis=0)\n",
    "players_stats[per_game_stats] = np.around(players_stats[per_game_stats], decimals=1)"
   ]
  },
  {
   "cell_type": "code",
   "execution_count": 49,
   "metadata": {},
   "outputs": [
    {
     "data": {
      "text/plain": [
       "array(['GAME_ID', 'MATCHUP', 'LOCATION', 'W', 'FINAL_MARGIN',\n",
       "       'SHOT_NUMBER', 'PERIOD', 'GAME_CLOCK', 'SHOT_CLOCK', 'DRIBBLES',\n",
       "       'TOUCH_TIME', 'SHOT_DIST', 'PTS_TYPE', 'SHOT_RESULT',\n",
       "       'CLOSEST_DEFENDER', 'CLOSEST_DEFENDER_PLAYER_ID', 'CLOSE_DEF_DIST',\n",
       "       'FGM', 'PTS', 'player_name', 'player_id'], dtype=object)"
      ]
     },
     "execution_count": 49,
     "metadata": {},
     "output_type": "execute_result"
    }
   ],
   "source": [
    "shot_logs.columns.values"
   ]
  },
  {
   "cell_type": "code",
   "execution_count": 51,
   "metadata": {},
   "outputs": [
    {
     "data": {
      "text/plain": [
       "james harden         1054\n",
       "mnta ellis           1052\n",
       "lamarcus aldridge    1050\n",
       "damian lillard        986\n",
       "lebron james          978\n",
       "                     ... \n",
       "mike miller            94\n",
       "alan crabbe            94\n",
       "joey dorsey            93\n",
       "jerome jordan          88\n",
       "greg smith             47\n",
       "Name: player_name, Length: 281, dtype: int64"
      ]
     },
     "execution_count": 51,
     "metadata": {},
     "output_type": "execute_result"
    }
   ],
   "source": [
    "shot_logs['player_name'].value_counts()"
   ]
  },
  {
   "cell_type": "code",
   "execution_count": 52,
   "metadata": {},
   "outputs": [
    {
     "data": {
      "text/plain": [
       "Ibaka, Serge           814\n",
       "Jordan, DeAndre        795\n",
       "Gasol, Pau             754\n",
       "Green, Draymond        751\n",
       "Millsap, Paul          750\n",
       "                      ... \n",
       "Raduljica, Miroslav      1\n",
       "Ledo, Ricky              1\n",
       "Moreland, Eric           1\n",
       "Lucas, Kalin             1\n",
       "Murry, Toure             1\n",
       "Name: CLOSEST_DEFENDER, Length: 473, dtype: int64"
      ]
     },
     "execution_count": 52,
     "metadata": {},
     "output_type": "execute_result"
    }
   ],
   "source": [
    "shot_logs['CLOSEST_DEFENDER'].value_counts()"
   ]
  },
  {
   "cell_type": "markdown",
   "metadata": {},
   "source": [
    "#### Transform all names to the same format"
   ]
  },
  {
   "cell_type": "code",
   "execution_count": 275,
   "metadata": {},
   "outputs": [],
   "source": [
    "player_names = shot_logs['CLOSEST_DEFENDER'].str.split(pat=\", \", expand=True)\n",
    "player_names['Name'] = player_names[1] + \" \" + player_names[0]\n",
    "shot_logs['CLOSEST_DEFENDER'] = player_names['Name']"
   ]
  },
  {
   "cell_type": "code",
   "execution_count": 278,
   "metadata": {},
   "outputs": [],
   "source": [
    "shot_logs['player_name'] = shot_logs['player_name'].str.upper()\n",
    "shot_logs['CLOSEST_DEFENDER'] = shot_logs['CLOSEST_DEFENDER'].str.upper()\n",
    "players_stats['Name'] = players_stats['Name'].str.upper()"
   ]
  },
  {
   "cell_type": "markdown",
   "metadata": {},
   "source": [
    "#### Fix names that are spelled incorrectly or differently"
   ]
  },
  {
   "cell_type": "code",
   "execution_count": null,
   "metadata": {},
   "outputs": [],
   "source": [
    "\"\"\" \n",
    "    Match height to each player in the shot log\n",
    "\"\"\"\n",
    "shot_logs['player_height'] = shot_logs['player_name'].apply(lambda x: players_stats.Height[players_stats['Name'] == x].values[0] \n",
    "                                                            if len(players_stats.Height[players_stats['Name'] == x].values) > 0 else 0)"
   ]
  },
  {
   "cell_type": "code",
   "execution_count": 147,
   "metadata": {},
   "outputs": [
    {
     "data": {
      "text/plain": [
       "Index(['MNTA ELLIS', 'DIRK NOWTIZSKI', 'DWAYNE WADE', 'TIME HARDAWAY JR',\n",
       "       'OJ MAYO', 'DJ AUGUSTIN', 'NENE HILARIO', 'NERLES NOEL',\n",
       "       'JOSE JUAN BAREA', 'BENO URDIH', 'DANILO GALLINAI', 'AMARE STOUDEMIRE',\n",
       "       'CJ WATSON', 'OTTO PORTER', 'STEVE ADAMS', 'AL FAROUQ AMINU',\n",
       "       'JON INGLES', 'KYLE OQUINN', 'JAMES ENNIS', 'JIMMER DREDETTE',\n",
       "       'ALAN CRABBE'],\n",
       "      dtype='object')"
      ]
     },
     "execution_count": 147,
     "metadata": {},
     "output_type": "execute_result"
    }
   ],
   "source": [
    "\"\"\"\n",
    "    Find names that don't have a matching height\n",
    "\"\"\"\n",
    "missing_names = shot_logs['player_name'][shot_logs['player_height']==0].value_counts()\n",
    "missing_names.index"
   ]
  },
  {
   "cell_type": "code",
   "execution_count": 279,
   "metadata": {},
   "outputs": [],
   "source": [
    "shot_logs.player_name = shot_logs.player_name.apply(lambda x: 'DWYANE WADE' if x == 'DWAYNE WADE' else x) \n",
    "shot_logs.player_name = shot_logs.player_name.apply(lambda x: 'MONTA ELLIS' if x == 'MNTA ELLIS' else x) \n",
    "shot_logs.player_name = shot_logs.player_name.apply(lambda x: 'DIRK NOWITZKI' if x == 'DIRK NOWTIZSKI' else x) \n",
    "shot_logs.player_name = shot_logs.player_name.apply(lambda x: 'TIM HARDAWAY JR.' if x == 'TIME HARDAWAY JR' else x) \n",
    "shot_logs.player_name = shot_logs.player_name.apply(lambda x: 'O.J. MAYO' if x == 'OJ MAYO' else x)\n",
    "shot_logs.player_name = shot_logs.player_name.apply(lambda x: 'D.J. AUGUSTIN' if x == 'DJ AUGUSTIN' else x)\n",
    "shot_logs.player_name = shot_logs.player_name.apply(lambda x: 'NENE' if x == 'NENE HILARIO' else x)\n",
    "shot_logs.player_name = shot_logs.player_name.apply(lambda x: 'NERLENS NOEL' if x == 'NERLES NOEL' else x)\n",
    "shot_logs.player_name = shot_logs.player_name.apply(lambda x: 'J.J. BAREA' if x == 'JOSE JUAN BAREA' else x)\n",
    "shot_logs.player_name = shot_logs.player_name.apply(lambda x: 'BENO UDRIH' if x == 'BENO URDIH' else x)"
   ]
  },
  {
   "cell_type": "code",
   "execution_count": 280,
   "metadata": {},
   "outputs": [],
   "source": [
    "shot_logs.player_name = shot_logs.player_name.apply(lambda x: 'DANILO GALLINARI' if x == 'DANILO GALLINAI' else x) \n",
    "shot_logs.player_name = shot_logs.player_name.apply(lambda x: 'AMAR\\'E STOUDEMIRE' if x == 'AMARE STOUDEMIRE' else x) \n",
    "shot_logs.player_name = shot_logs.player_name.apply(lambda x: 'C.J. WATSON' if x == 'CJ WATSON' else x) \n",
    "shot_logs.player_name = shot_logs.player_name.apply(lambda x: 'OTTO PORTER JR.' if x == 'OTTO PORTER' else x) \n",
    "shot_logs.player_name = shot_logs.player_name.apply(lambda x: 'STEVEN ADAMS' if x == 'STEVE ADAMS' else x) \n",
    "shot_logs.player_name = shot_logs.player_name.apply(lambda x: 'AL-FAROUQ AMINU' if x == 'AL FAROUQ AMINU' else x) \n",
    "shot_logs.player_name = shot_logs.player_name.apply(lambda x: 'JOE INGLES' if x == 'JON INGLES' else x) \n",
    "shot_logs.player_name = shot_logs.player_name.apply(lambda x: 'KYLE O\\'QUINN' if x == 'KYLE OQUINN' else x) \n",
    "shot_logs.player_name = shot_logs.player_name.apply(lambda x: 'JAMES ENNIS III' if x == 'JAMES ENNIS' else x) \n",
    "shot_logs.player_name = shot_logs.player_name.apply(lambda x: 'JIMMER FREDETTE' if x == 'JIMMER DREDETTE' else x) \n",
    "shot_logs.player_name = shot_logs.player_name.apply(lambda x: 'ALLEN CRABBE' if x == 'ALAN CRABBE' else x)"
   ]
  },
  {
   "cell_type": "code",
   "execution_count": 281,
   "metadata": {},
   "outputs": [],
   "source": [
    "shot_logs['player_height'] = shot_logs['player_name'].apply(lambda x: players_stats.Height[players_stats['Name'] == x].values[0] \n",
    "                                                            if len(players_stats.Height[players_stats['Name'] == x].values) > 0 else 0)"
   ]
  },
  {
   "cell_type": "code",
   "execution_count": 233,
   "metadata": {},
   "outputs": [
    {
     "data": {
      "text/plain": [
       "Series([], Name: player_name, dtype: int64)"
      ]
     },
     "execution_count": 233,
     "metadata": {},
     "output_type": "execute_result"
    }
   ],
   "source": [
    "shot_logs['player_name'][shot_logs['player_height']==0].value_counts()"
   ]
  },
  {
   "cell_type": "code",
   "execution_count": 282,
   "metadata": {},
   "outputs": [],
   "source": [
    "\"\"\" \n",
    "    Do the same for defenders\n",
    "\"\"\"\n",
    "shot_logs['CLOSEST_DEFENDER'] = shot_logs['CLOSEST_DEFENDER'].apply(lambda x: 'DWYANE WADE' if x == 'DWAYNE WADE' else x) \n",
    "shot_logs['CLOSEST_DEFENDER'] = shot_logs['CLOSEST_DEFENDER'].apply(lambda x: 'MONTA ELLIS' if x == 'MNTA ELLIS' else x) \n",
    "shot_logs['CLOSEST_DEFENDER'] = shot_logs['CLOSEST_DEFENDER'].apply(lambda x: 'DIRK NOWITZKI' if x == 'DIRK NOWTIZSKI' else x) \n",
    "shot_logs['CLOSEST_DEFENDER'] = shot_logs['CLOSEST_DEFENDER'].apply(lambda x: 'TIM HARDAWAY JR.' if x == 'TIME HARDAWAY JR' else x) \n",
    "shot_logs['CLOSEST_DEFENDER'] = shot_logs['CLOSEST_DEFENDER'].apply(lambda x: 'O.J. MAYO' if x == 'OJ MAYO' else x)\n",
    "shot_logs['CLOSEST_DEFENDER'] = shot_logs['CLOSEST_DEFENDER'].apply(lambda x: 'D.J. AUGUSTIN' if x == 'DJ AUGUSTIN' else x)\n",
    "shot_logs['CLOSEST_DEFENDER'] = shot_logs['CLOSEST_DEFENDER'].apply(lambda x: 'NENE' if x == 'NENE HILARIO' else x)\n",
    "shot_logs['CLOSEST_DEFENDER'] = shot_logs['CLOSEST_DEFENDER'].apply(lambda x: 'NERLENS NOEL' if x == 'NERLES NOEL' else x)\n",
    "shot_logs['CLOSEST_DEFENDER'] = shot_logs['CLOSEST_DEFENDER'].apply(lambda x: 'J.J. BAREA' if x == 'JOSE JUAN BAREA' else x)\n",
    "shot_logs['CLOSEST_DEFENDER'] = shot_logs['CLOSEST_DEFENDER'].apply(lambda x: 'BENO UDRIH' if x == 'BENO URDIH' else x)\n",
    "shot_logs['CLOSEST_DEFENDER'] = shot_logs['CLOSEST_DEFENDER'].apply(lambda x: 'DANILO GALLINARI' if x == 'DANILO GALLINAI' else x) \n",
    "shot_logs['CLOSEST_DEFENDER'] = shot_logs['CLOSEST_DEFENDER'].apply(lambda x: 'AMAR\\'E STOUDEMIRE' if x == 'AMARE STOUDEMIRE' else x) \n",
    "shot_logs['CLOSEST_DEFENDER'] = shot_logs['CLOSEST_DEFENDER'].apply(lambda x: 'C.J. WATSON' if x == 'CJ WATSON' else x) \n",
    "shot_logs['CLOSEST_DEFENDER'] = shot_logs['CLOSEST_DEFENDER'].apply(lambda x: 'OTTO PORTER JR.' if x == 'OTTO PORTER' else x) \n",
    "shot_logs['CLOSEST_DEFENDER'] = shot_logs['CLOSEST_DEFENDER'].apply(lambda x: 'STEVEN ADAMS' if x == 'STEVE ADAMS' else x) \n",
    "shot_logs['CLOSEST_DEFENDER'] = shot_logs['CLOSEST_DEFENDER'].apply(lambda x: 'AL-FAROUQ AMINU' if x == 'AL FAROUQ AMINU' else x) \n",
    "shot_logs['CLOSEST_DEFENDER'] = shot_logs['CLOSEST_DEFENDER'].apply(lambda x: 'JOE INGLES' if x == 'JON INGLES' else x) \n",
    "shot_logs['CLOSEST_DEFENDER'] = shot_logs['CLOSEST_DEFENDER'].apply(lambda x: 'KYLE O\\'QUINN' if x == 'KYLE OQUINN' else x) \n",
    "shot_logs['CLOSEST_DEFENDER'] = shot_logs['CLOSEST_DEFENDER'].apply(lambda x: 'JAMES ENNIS III' if x == 'JAMES ENNIS' else x) \n",
    "shot_logs['CLOSEST_DEFENDER'] = shot_logs['CLOSEST_DEFENDER'].apply(lambda x: 'JIMMER FREDETTE' if x == 'JIMMER DREDETTE' else x) \n",
    "shot_logs['CLOSEST_DEFENDER'] = shot_logs['CLOSEST_DEFENDER'].apply(lambda x: 'ALLEN CRABBE' if x == 'ALAN CRABBE' else x)"
   ]
  },
  {
   "cell_type": "code",
   "execution_count": 176,
   "metadata": {},
   "outputs": [],
   "source": [
    "shot_logs['defender_height'] = shot_logs['CLOSEST_DEFENDER'].apply(lambda x: players_stats.Height[players_stats['Name'] == x].values[0] \n",
    "                                                            if len(players_stats.Height[players_stats['Name'] == x].values) > 0 else 0)"
   ]
  },
  {
   "cell_type": "code",
   "execution_count": 177,
   "metadata": {
    "collapsed": true
   },
   "outputs": [
    {
     "data": {
      "text/plain": [
       "J.R. SMITH          335\n",
       "OTTO PORTER         241\n",
       "PERRY JONES         170\n",
       "JOHNNY O'BRYANT      89\n",
       "A.J. PRICE           69\n",
       "CHARLES HAYES        64\n",
       "LARRY DREW           50\n",
       "GLENN ROBINSON       29\n",
       "JEFF TAYLOR          24\n",
       "ATILA DOS SANTOS     12\n",
       "GLEN RICE JR.         8\n",
       "ERIC MORELAND         1\n",
       "TOURE MURRY           1\n",
       "Name: CLOSEST_DEFENDER, dtype: int64"
      ]
     },
     "execution_count": 177,
     "metadata": {},
     "output_type": "execute_result"
    }
   ],
   "source": [
    "shot_logs['CLOSEST_DEFENDER'][shot_logs['defender_height']==0].value_counts()"
   ]
  },
  {
   "cell_type": "code",
   "execution_count": 283,
   "metadata": {},
   "outputs": [],
   "source": [
    "shot_logs['CLOSEST_DEFENDER'] = shot_logs['CLOSEST_DEFENDER'].apply(lambda x: 'JR SMITH' if x == 'J.R. SMITH' else x) \n",
    "shot_logs['CLOSEST_DEFENDER'] = shot_logs['CLOSEST_DEFENDER'].apply(lambda x: 'PERRY JONES III' if x == 'PERRY JONES' else x) \n",
    "shot_logs['CLOSEST_DEFENDER'] = shot_logs['CLOSEST_DEFENDER'].apply(lambda x: 'JOHNNY O\\'BRYANT III' if x == 'JOHNNY O\\'BRYANT' else x) \n",
    "shot_logs['CLOSEST_DEFENDER'] = shot_logs['CLOSEST_DEFENDER'].apply(lambda x: 'AJ PRICE' if x == 'A.J. PRICE' else x) \n",
    "shot_logs['CLOSEST_DEFENDER'] = shot_logs['CLOSEST_DEFENDER'].apply(lambda x: 'CHUCK HAYES' if x == 'CHARLES HAYES' else x)\n",
    "shot_logs['CLOSEST_DEFENDER'] = shot_logs['CLOSEST_DEFENDER'].apply(lambda x: 'LARRY DREW II' if x == 'LARRY DREW' else x)\n",
    "shot_logs['CLOSEST_DEFENDER'] = shot_logs['CLOSEST_DEFENDER'].apply(lambda x: 'GLENN ROBINSON III' if x == 'GLENN ROBINSON' else x)\n",
    "shot_logs['CLOSEST_DEFENDER'] = shot_logs['CLOSEST_DEFENDER'].apply(lambda x: 'JEFFERY TAYLOR' if x == 'JEFF TAYLOR' else x)\n",
    "shot_logs['CLOSEST_DEFENDER'] = shot_logs['CLOSEST_DEFENDER'].apply(lambda x: 'GLEN RICE' if x == 'GLEN RICE JR.' else x)\n",
    "shot_logs['CLOSEST_DEFENDER'] = shot_logs['CLOSEST_DEFENDER'].apply(lambda x: 'TOURE\\' MURRY' if x == 'TOURE MURRY' else x)"
   ]
  },
  {
   "cell_type": "code",
   "execution_count": 284,
   "metadata": {},
   "outputs": [],
   "source": [
    "shot_logs['defender_height'] = shot_logs['CLOSEST_DEFENDER'].apply(lambda x: players_stats.Height[players_stats['Name'] == x].values[0] \n",
    "                                                            if len(players_stats.Height[players_stats['Name'] == x].values) > 0 else 0)"
   ]
  },
  {
   "cell_type": "code",
   "execution_count": 285,
   "metadata": {},
   "outputs": [
    {
     "data": {
      "text/plain": [
       "ATILA DOS SANTOS    12\n",
       "ERIC MORELAND        1\n",
       "Name: CLOSEST_DEFENDER, dtype: int64"
      ]
     },
     "execution_count": 285,
     "metadata": {},
     "output_type": "execute_result"
    }
   ],
   "source": [
    "shot_logs['CLOSEST_DEFENDER'][shot_logs['defender_height']==0].value_counts()"
   ]
  },
  {
   "cell_type": "code",
   "execution_count": 286,
   "metadata": {},
   "outputs": [],
   "source": [
    "\"\"\"Remove unrecorded players\"\"\"\n",
    "shot_logs = shot_logs[shot_logs['defender_height'] > 0]"
   ]
  },
  {
   "cell_type": "markdown",
   "metadata": {},
   "source": [
    "#### Merge relevant data from the two dataframes"
   ]
  },
  {
   "cell_type": "code",
   "execution_count": 287,
   "metadata": {},
   "outputs": [],
   "source": [
    "\"\"\"Selected Features\"\"\"\n",
    "offensive_stats = ['Name','PTS','FG%','3P%','FT%','AST','Weight']\n",
    "defensive_stats = ['Name','OREB','DREB','STL','BLK','Weight']"
   ]
  },
  {
   "cell_type": "code",
   "execution_count": 288,
   "metadata": {},
   "outputs": [],
   "source": [
    "shot_logs = pd.merge(shot_logs, players_stats[offensive_stats], left_on='player_name',right_on='Name')"
   ]
  },
  {
   "cell_type": "code",
   "execution_count": 289,
   "metadata": {},
   "outputs": [],
   "source": [
    "shot_logs = pd.merge(shot_logs, players_stats[defensive_stats], left_on='CLOSEST_DEFENDER',right_on='Name')"
   ]
  },
  {
   "cell_type": "code",
   "execution_count": 290,
   "metadata": {},
   "outputs": [
    {
     "data": {
      "text/plain": [
       "array(['GAME_ID', 'MATCHUP', 'LOCATION', 'W', 'FINAL_MARGIN',\n",
       "       'SHOT_NUMBER', 'PERIOD', 'GAME_CLOCK', 'SHOT_CLOCK', 'DRIBBLES',\n",
       "       'TOUCH_TIME', 'SHOT_DIST', 'PTS_TYPE', 'SHOT_RESULT',\n",
       "       'CLOSEST_DEFENDER', 'CLOSEST_DEFENDER_PLAYER_ID', 'CLOSE_DEF_DIST',\n",
       "       'FGM', 'PTS_x', 'player_name', 'player_id', 'player_height',\n",
       "       'defender_height', 'Name_x', 'PTS_y', 'FG%', '3P%', 'FT%', 'AST',\n",
       "       'Weight_x', 'Name_y', 'OREB', 'DREB', 'STL', 'BLK', 'Weight_y'],\n",
       "      dtype=object)"
      ]
     },
     "execution_count": 290,
     "metadata": {},
     "output_type": "execute_result"
    }
   ],
   "source": [
    "shot_logs.columns.values"
   ]
  },
  {
   "cell_type": "markdown",
   "metadata": {},
   "source": [
    "#### Clean up the data"
   ]
  },
  {
   "cell_type": "code",
   "execution_count": 292,
   "metadata": {},
   "outputs": [],
   "source": [
    "\"\"\"Rename the columns\"\"\"\n",
    "shot_logs = shot_logs.rename(columns={\"PTS_x\": \"PTS\", \"PTS_y\": \"player_PTS\", \"FG%\": \"player_FG%\", \"3P%\": \"player_3P%\", \n",
    "                         \"FT%\": \"player_FT%\", \"AST\": \"player_AST\", \"Weight_x\": \"player_weight\", \n",
    "                          \"OREB\": \"defender_OREB\", \"DREB\": \"defender_DREB\", \"STL\": \"defender_STL\",\n",
    "                         \"BLK\": \"defender_BLK\", \"Weight_y\": \"defender_weight\"})\n",
    "shot_logs = shot_logs.rename(str.upper, axis=\"columns\")"
   ]
  },
  {
   "cell_type": "code",
   "execution_count": 293,
   "metadata": {},
   "outputs": [
    {
     "data": {
      "text/plain": [
       "array(['GAME_ID', 'MATCHUP', 'LOCATION', 'W', 'FINAL_MARGIN',\n",
       "       'SHOT_NUMBER', 'PERIOD', 'GAME_CLOCK', 'SHOT_CLOCK', 'DRIBBLES',\n",
       "       'TOUCH_TIME', 'SHOT_DIST', 'PTS_TYPE', 'SHOT_RESULT',\n",
       "       'CLOSEST_DEFENDER', 'CLOSEST_DEFENDER_PLAYER_ID', 'CLOSE_DEF_DIST',\n",
       "       'FGM', 'PTS', 'PLAYER_NAME', 'PLAYER_ID', 'PLAYER_HEIGHT',\n",
       "       'DEFENDER_HEIGHT', 'NAME_X', 'PLAYER_PTS', 'PLAYER_FG%',\n",
       "       'PLAYER_3P%', 'PLAYER_FT%', 'PLAYER_AST', 'PLAYER_WEIGHT',\n",
       "       'NAME_Y', 'DEFENDER_OREB', 'DEFENDER_DREB', 'DEFENDER_STL',\n",
       "       'DEFENDER_BLK', 'DEFENDER_WEIGHT'], dtype=object)"
      ]
     },
     "execution_count": 293,
     "metadata": {},
     "output_type": "execute_result"
    }
   ],
   "source": [
    "shot_logs.columns.values"
   ]
  },
  {
   "cell_type": "code",
   "execution_count": 296,
   "metadata": {},
   "outputs": [],
   "source": [
    "\"\"\"Remove duplicate columns\"\"\"\n",
    "shot_logs = shot_logs.drop(columns = ['NAME_X','NAME_Y'])"
   ]
  },
  {
   "cell_type": "code",
   "execution_count": 305,
   "metadata": {},
   "outputs": [],
   "source": [
    "\"\"\"Remove NaN from SHOT_CLOCK\"\"\"\n",
    "shot_logs = shot_logs[shot_logs['SHOT_CLOCK'].notna()]"
   ]
  },
  {
   "cell_type": "code",
   "execution_count": 311,
   "metadata": {},
   "outputs": [],
   "source": [
    "\"\"\"Remove negative touch time\"\"\"\n",
    "shot_logs = shot_logs[shot_logs['TOUCH_TIME'] > 0]"
   ]
  },
  {
   "cell_type": "markdown",
   "metadata": {},
   "source": [
    "#### Export data"
   ]
  },
  {
   "cell_type": "code",
   "execution_count": 313,
   "metadata": {},
   "outputs": [],
   "source": [
    "shot_logs.to_csv(\"data.csv\", index=False)"
   ]
  }
 ],
 "metadata": {
  "kernelspec": {
   "display_name": "Python 3",
   "language": "python",
   "name": "python3"
  },
  "language_info": {
   "codemirror_mode": {
    "name": "ipython",
    "version": 3
   },
   "file_extension": ".py",
   "mimetype": "text/x-python",
   "name": "python",
   "nbconvert_exporter": "python",
   "pygments_lexer": "ipython3",
   "version": "3.7.3"
  }
 },
 "nbformat": 4,
 "nbformat_minor": 2
}
