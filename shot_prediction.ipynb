{
 "cells": [
  {
   "cell_type": "code",
   "execution_count": 69,
   "metadata": {},
   "outputs": [],
   "source": [
    "import pandas as pd\n",
    "import numpy as np \n",
    "from sklearn.model_selection import train_test_split\n",
    "from sklearn.preprocessing import StandardScaler\n",
    "from sklearn.neighbors import KNeighborsClassifier"
   ]
  },
  {
   "cell_type": "markdown",
   "metadata": {},
   "source": [
    "### Loading the data "
   ]
  },
  {
   "cell_type": "code",
   "execution_count": 59,
   "metadata": {},
   "outputs": [
    {
     "data": {
      "text/plain": [
       "(119011, 34)"
      ]
     },
     "execution_count": 59,
     "metadata": {},
     "output_type": "execute_result"
    }
   ],
   "source": [
    "data = pd.read_csv('Data/data.csv')\n",
    "pd.set_option('display.max_columns', None)\n",
    "data.shape"
   ]
  },
  {
   "cell_type": "code",
   "execution_count": 60,
   "metadata": {},
   "outputs": [
    {
     "data": {
      "text/html": [
       "<div>\n",
       "<style scoped>\n",
       "    .dataframe tbody tr th:only-of-type {\n",
       "        vertical-align: middle;\n",
       "    }\n",
       "\n",
       "    .dataframe tbody tr th {\n",
       "        vertical-align: top;\n",
       "    }\n",
       "\n",
       "    .dataframe thead th {\n",
       "        text-align: right;\n",
       "    }\n",
       "</style>\n",
       "<table border=\"1\" class=\"dataframe\">\n",
       "  <thead>\n",
       "    <tr style=\"text-align: right;\">\n",
       "      <th></th>\n",
       "      <th>GAME_ID</th>\n",
       "      <th>MATCHUP</th>\n",
       "      <th>LOCATION</th>\n",
       "      <th>W</th>\n",
       "      <th>FINAL_MARGIN</th>\n",
       "      <th>SHOT_NUMBER</th>\n",
       "      <th>PERIOD</th>\n",
       "      <th>GAME_CLOCK</th>\n",
       "      <th>SHOT_CLOCK</th>\n",
       "      <th>DRIBBLES</th>\n",
       "      <th>TOUCH_TIME</th>\n",
       "      <th>SHOT_DIST</th>\n",
       "      <th>PTS_TYPE</th>\n",
       "      <th>SHOT_RESULT</th>\n",
       "      <th>CLOSEST_DEFENDER</th>\n",
       "      <th>CLOSEST_DEFENDER_PLAYER_ID</th>\n",
       "      <th>CLOSE_DEF_DIST</th>\n",
       "      <th>FGM</th>\n",
       "      <th>PTS</th>\n",
       "      <th>PLAYER_NAME</th>\n",
       "      <th>PLAYER_ID</th>\n",
       "      <th>PLAYER_HEIGHT</th>\n",
       "      <th>DEFENDER_HEIGHT</th>\n",
       "      <th>PLAYER_PTS</th>\n",
       "      <th>PLAYER_FG%</th>\n",
       "      <th>PLAYER_3P%</th>\n",
       "      <th>PLAYER_FT%</th>\n",
       "      <th>PLAYER_AST</th>\n",
       "      <th>PLAYER_WEIGHT</th>\n",
       "      <th>DEFENDER_OREB</th>\n",
       "      <th>DEFENDER_DREB</th>\n",
       "      <th>DEFENDER_STL</th>\n",
       "      <th>DEFENDER_BLK</th>\n",
       "      <th>DEFENDER_WEIGHT</th>\n",
       "    </tr>\n",
       "  </thead>\n",
       "  <tbody>\n",
       "    <tr>\n",
       "      <td>119006</td>\n",
       "      <td>21400175</td>\n",
       "      <td>NOV 21, 2014 - MIL @ TOR</td>\n",
       "      <td>A</td>\n",
       "      <td>L</td>\n",
       "      <td>-42</td>\n",
       "      <td>3</td>\n",
       "      <td>4</td>\n",
       "      <td>8:55</td>\n",
       "      <td>15.2</td>\n",
       "      <td>0</td>\n",
       "      <td>0.8</td>\n",
       "      <td>22.9</td>\n",
       "      <td>3</td>\n",
       "      <td>missed</td>\n",
       "      <td>BRUNO CABOCLO</td>\n",
       "      <td>203998</td>\n",
       "      <td>10.6</td>\n",
       "      <td>0</td>\n",
       "      <td>0</td>\n",
       "      <td>JARED DUDLEY</td>\n",
       "      <td>201162</td>\n",
       "      <td>197.5</td>\n",
       "      <td>202.5</td>\n",
       "      <td>7.2</td>\n",
       "      <td>46.8</td>\n",
       "      <td>38.5</td>\n",
       "      <td>71.6</td>\n",
       "      <td>1.8</td>\n",
       "      <td>101.25</td>\n",
       "      <td>0.1</td>\n",
       "      <td>0.1</td>\n",
       "      <td>0.0</td>\n",
       "      <td>0.1</td>\n",
       "      <td>98.10</td>\n",
       "    </tr>\n",
       "    <tr>\n",
       "      <td>119007</td>\n",
       "      <td>21400003</td>\n",
       "      <td>OCT 28, 2014 - HOU @ LAL</td>\n",
       "      <td>A</td>\n",
       "      <td>W</td>\n",
       "      <td>18</td>\n",
       "      <td>3</td>\n",
       "      <td>3</td>\n",
       "      <td>1:35</td>\n",
       "      <td>3.3</td>\n",
       "      <td>1</td>\n",
       "      <td>2.4</td>\n",
       "      <td>6.7</td>\n",
       "      <td>2</td>\n",
       "      <td>made</td>\n",
       "      <td>JULIUS RANDLE</td>\n",
       "      <td>203944</td>\n",
       "      <td>5.3</td>\n",
       "      <td>1</td>\n",
       "      <td>2</td>\n",
       "      <td>KOSTAS PAPANIKOLAOU</td>\n",
       "      <td>203123</td>\n",
       "      <td>200.0</td>\n",
       "      <td>202.5</td>\n",
       "      <td>4.2</td>\n",
       "      <td>35.0</td>\n",
       "      <td>29.2</td>\n",
       "      <td>72.2</td>\n",
       "      <td>2.0</td>\n",
       "      <td>101.25</td>\n",
       "      <td>0.0</td>\n",
       "      <td>0.0</td>\n",
       "      <td>0.0</td>\n",
       "      <td>0.0</td>\n",
       "      <td>112.50</td>\n",
       "    </tr>\n",
       "    <tr>\n",
       "      <td>119008</td>\n",
       "      <td>21400003</td>\n",
       "      <td>OCT 28, 2014 - HOU @ LAL</td>\n",
       "      <td>A</td>\n",
       "      <td>W</td>\n",
       "      <td>18</td>\n",
       "      <td>2</td>\n",
       "      <td>2</td>\n",
       "      <td>10:10</td>\n",
       "      <td>24.0</td>\n",
       "      <td>0</td>\n",
       "      <td>0.3</td>\n",
       "      <td>4.1</td>\n",
       "      <td>2</td>\n",
       "      <td>made</td>\n",
       "      <td>JULIUS RANDLE</td>\n",
       "      <td>203944</td>\n",
       "      <td>3.2</td>\n",
       "      <td>1</td>\n",
       "      <td>2</td>\n",
       "      <td>DWIGHT HOWARD</td>\n",
       "      <td>2730</td>\n",
       "      <td>207.5</td>\n",
       "      <td>202.5</td>\n",
       "      <td>15.8</td>\n",
       "      <td>59.3</td>\n",
       "      <td>50.0</td>\n",
       "      <td>52.8</td>\n",
       "      <td>1.2</td>\n",
       "      <td>119.25</td>\n",
       "      <td>0.0</td>\n",
       "      <td>0.0</td>\n",
       "      <td>0.0</td>\n",
       "      <td>0.0</td>\n",
       "      <td>112.50</td>\n",
       "    </tr>\n",
       "    <tr>\n",
       "      <td>119009</td>\n",
       "      <td>21400744</td>\n",
       "      <td>FEB 05, 2015 - SAC vs. DAL</td>\n",
       "      <td>H</td>\n",
       "      <td>L</td>\n",
       "      <td>-23</td>\n",
       "      <td>9</td>\n",
       "      <td>4</td>\n",
       "      <td>3:21</td>\n",
       "      <td>13.3</td>\n",
       "      <td>5</td>\n",
       "      <td>5.4</td>\n",
       "      <td>21.9</td>\n",
       "      <td>2</td>\n",
       "      <td>missed</td>\n",
       "      <td>RICKY LEDO</td>\n",
       "      <td>203495</td>\n",
       "      <td>5.0</td>\n",
       "      <td>0</td>\n",
       "      <td>0</td>\n",
       "      <td>NIK STAUSKAS</td>\n",
       "      <td>203917</td>\n",
       "      <td>195.0</td>\n",
       "      <td>201.0</td>\n",
       "      <td>4.4</td>\n",
       "      <td>36.5</td>\n",
       "      <td>32.2</td>\n",
       "      <td>85.9</td>\n",
       "      <td>0.9</td>\n",
       "      <td>92.25</td>\n",
       "      <td>0.9</td>\n",
       "      <td>1.2</td>\n",
       "      <td>0.4</td>\n",
       "      <td>0.1</td>\n",
       "      <td>88.00</td>\n",
       "    </tr>\n",
       "    <tr>\n",
       "      <td>119010</td>\n",
       "      <td>21400498</td>\n",
       "      <td>JAN 03, 2015 - MIN vs. UTA</td>\n",
       "      <td>H</td>\n",
       "      <td>L</td>\n",
       "      <td>-12</td>\n",
       "      <td>7</td>\n",
       "      <td>4</td>\n",
       "      <td>0:26</td>\n",
       "      <td>2.6</td>\n",
       "      <td>1</td>\n",
       "      <td>0.7</td>\n",
       "      <td>4.3</td>\n",
       "      <td>2</td>\n",
       "      <td>made</td>\n",
       "      <td>TOURE' MURRY</td>\n",
       "      <td>203315</td>\n",
       "      <td>2.8</td>\n",
       "      <td>1</td>\n",
       "      <td>2</td>\n",
       "      <td>ANTHONY BENNETT</td>\n",
       "      <td>203461</td>\n",
       "      <td>200.0</td>\n",
       "      <td>192.5</td>\n",
       "      <td>5.2</td>\n",
       "      <td>42.1</td>\n",
       "      <td>30.4</td>\n",
       "      <td>64.1</td>\n",
       "      <td>0.8</td>\n",
       "      <td>110.25</td>\n",
       "      <td>0.2</td>\n",
       "      <td>0.0</td>\n",
       "      <td>0.2</td>\n",
       "      <td>0.0</td>\n",
       "      <td>87.75</td>\n",
       "    </tr>\n",
       "  </tbody>\n",
       "</table>\n",
       "</div>"
      ],
      "text/plain": [
       "         GAME_ID                     MATCHUP LOCATION  W  FINAL_MARGIN  \\\n",
       "119006  21400175    NOV 21, 2014 - MIL @ TOR        A  L           -42   \n",
       "119007  21400003    OCT 28, 2014 - HOU @ LAL        A  W            18   \n",
       "119008  21400003    OCT 28, 2014 - HOU @ LAL        A  W            18   \n",
       "119009  21400744  FEB 05, 2015 - SAC vs. DAL        H  L           -23   \n",
       "119010  21400498  JAN 03, 2015 - MIN vs. UTA        H  L           -12   \n",
       "\n",
       "        SHOT_NUMBER  PERIOD GAME_CLOCK  SHOT_CLOCK  DRIBBLES  TOUCH_TIME  \\\n",
       "119006            3       4       8:55        15.2         0         0.8   \n",
       "119007            3       3       1:35         3.3         1         2.4   \n",
       "119008            2       2      10:10        24.0         0         0.3   \n",
       "119009            9       4       3:21        13.3         5         5.4   \n",
       "119010            7       4       0:26         2.6         1         0.7   \n",
       "\n",
       "        SHOT_DIST  PTS_TYPE SHOT_RESULT CLOSEST_DEFENDER  \\\n",
       "119006       22.9         3      missed    BRUNO CABOCLO   \n",
       "119007        6.7         2        made    JULIUS RANDLE   \n",
       "119008        4.1         2        made    JULIUS RANDLE   \n",
       "119009       21.9         2      missed       RICKY LEDO   \n",
       "119010        4.3         2        made     TOURE' MURRY   \n",
       "\n",
       "        CLOSEST_DEFENDER_PLAYER_ID  CLOSE_DEF_DIST  FGM  PTS  \\\n",
       "119006                      203998            10.6    0    0   \n",
       "119007                      203944             5.3    1    2   \n",
       "119008                      203944             3.2    1    2   \n",
       "119009                      203495             5.0    0    0   \n",
       "119010                      203315             2.8    1    2   \n",
       "\n",
       "                PLAYER_NAME  PLAYER_ID  PLAYER_HEIGHT  DEFENDER_HEIGHT  \\\n",
       "119006         JARED DUDLEY     201162          197.5            202.5   \n",
       "119007  KOSTAS PAPANIKOLAOU     203123          200.0            202.5   \n",
       "119008        DWIGHT HOWARD       2730          207.5            202.5   \n",
       "119009         NIK STAUSKAS     203917          195.0            201.0   \n",
       "119010      ANTHONY BENNETT     203461          200.0            192.5   \n",
       "\n",
       "        PLAYER_PTS  PLAYER_FG%  PLAYER_3P%  PLAYER_FT%  PLAYER_AST  \\\n",
       "119006         7.2        46.8        38.5        71.6         1.8   \n",
       "119007         4.2        35.0        29.2        72.2         2.0   \n",
       "119008        15.8        59.3        50.0        52.8         1.2   \n",
       "119009         4.4        36.5        32.2        85.9         0.9   \n",
       "119010         5.2        42.1        30.4        64.1         0.8   \n",
       "\n",
       "        PLAYER_WEIGHT  DEFENDER_OREB  DEFENDER_DREB  DEFENDER_STL  \\\n",
       "119006         101.25            0.1            0.1           0.0   \n",
       "119007         101.25            0.0            0.0           0.0   \n",
       "119008         119.25            0.0            0.0           0.0   \n",
       "119009          92.25            0.9            1.2           0.4   \n",
       "119010         110.25            0.2            0.0           0.2   \n",
       "\n",
       "        DEFENDER_BLK  DEFENDER_WEIGHT  \n",
       "119006           0.1            98.10  \n",
       "119007           0.0           112.50  \n",
       "119008           0.0           112.50  \n",
       "119009           0.1            88.00  \n",
       "119010           0.0            87.75  "
      ]
     },
     "execution_count": 60,
     "metadata": {},
     "output_type": "execute_result"
    }
   ],
   "source": [
    "data.tail()"
   ]
  },
  {
   "cell_type": "code",
   "execution_count": 61,
   "metadata": {},
   "outputs": [
    {
     "data": {
      "text/plain": [
       "array(['GAME_ID', 'MATCHUP', 'LOCATION', 'W', 'FINAL_MARGIN',\n",
       "       'SHOT_NUMBER', 'PERIOD', 'GAME_CLOCK', 'SHOT_CLOCK', 'DRIBBLES',\n",
       "       'TOUCH_TIME', 'SHOT_DIST', 'PTS_TYPE', 'SHOT_RESULT',\n",
       "       'CLOSEST_DEFENDER', 'CLOSEST_DEFENDER_PLAYER_ID', 'CLOSE_DEF_DIST',\n",
       "       'FGM', 'PTS', 'PLAYER_NAME', 'PLAYER_ID', 'PLAYER_HEIGHT',\n",
       "       'DEFENDER_HEIGHT', 'PLAYER_PTS', 'PLAYER_FG%', 'PLAYER_3P%',\n",
       "       'PLAYER_FT%', 'PLAYER_AST', 'PLAYER_WEIGHT', 'DEFENDER_OREB',\n",
       "       'DEFENDER_DREB', 'DEFENDER_STL', 'DEFENDER_BLK', 'DEFENDER_WEIGHT'],\n",
       "      dtype=object)"
      ]
     },
     "execution_count": 61,
     "metadata": {},
     "output_type": "execute_result"
    }
   ],
   "source": [
    "data.columns.values"
   ]
  },
  {
   "cell_type": "markdown",
   "metadata": {},
   "source": [
    "### Manipulating the data"
   ]
  },
  {
   "cell_type": "code",
   "execution_count": 62,
   "metadata": {},
   "outputs": [],
   "source": [
    "# separate data into matrix of predictor variables and vector of target variables\n",
    "names = ['LOCATION', 'SHOT_NUMBER', 'PERIOD', 'GAME_CLOCK', 'SHOT_CLOCK',\n",
    "         'DRIBBLES', 'SHOT_DIST', 'PTS_TYPE', 'CLOSE_DEF_DIST', 'FGM', 'PTS',\n",
    "         'PLAYER_HEIGHT','DEFENDER_HEIGHT', 'PLAYER_PTS', 'PLAYER_FG%', 'PLAYER_3P%',\n",
    "          'PLAYER_FT%','DEFENDER_STL', 'DEFENDER_BLK', 'SHOT_RESULT']\n",
    "\n",
    "# converting data to usable numerical data\n",
    "# todo: move this to preprocessing \n",
    "def convert_time(time_string):\n",
    "    time = time_string.split(':')\n",
    "    return float(time[0])*60 + float(time[1])\n",
    "\n",
    "# convert game_clock to seconds\n",
    "data['GAME_CLOCK'] = data['GAME_CLOCK'].apply(lambda x: convert_time(x))\n",
    "\n",
    "# convert shot_result to either 0 or 1\n",
    "data['SHOT_RESULT'] = (data['SHOT_RESULT'] == 'made').astype(int)\n",
    "# convert win to either 0 \n",
    "\n",
    "# encode categorical data \n",
    "data_encoded = pd.get_dummies(data[names])\n",
    "\n",
    "# split into train and test set with roughly 75-25 split\n",
    "train, test = train_test_split(data_encoded, test_size=0.25)\n",
    "Xtrain = train.drop(['SHOT_RESULT'], axis=1)\n",
    "ytrain = train['SHOT_RESULT']\n",
    "Xtest = test.drop(['SHOT_RESULT'], axis=1)\n",
    "ytest = test['SHOT_RESULT']"
   ]
  },
  {
   "cell_type": "markdown",
   "metadata": {},
   "source": [
    "### Setting the baseline\n",
    "\n",
    "First baseline we consider is to predict every shot within 5 feet of the basket as a make and anything else as a miss. "
   ]
  },
  {
   "cell_type": "code",
   "execution_count": 63,
   "metadata": {},
   "outputs": [
    {
     "name": "stdout",
     "output_type": "stream",
     "text": [
      "Accuracy = 0.606460\n"
     ]
    }
   ],
   "source": [
    "yhat = (Xtest['SHOT_DIST'] <= 5).astype(int)\n",
    "acc = np.mean(yhat == ytest)\n",
    "print('Accuracy = {0:f}'.format(acc))"
   ]
  },
  {
   "cell_type": "markdown",
   "metadata": {},
   "source": [
    "A more complex baseline we can try is to use k-nn algorithm. First, we need to normalize the data so that no one parameter exerts more influence on the result than others. "
   ]
  },
  {
   "cell_type": "code",
   "execution_count": 71,
   "metadata": {},
   "outputs": [
    {
     "data": {
      "text/plain": [
       "KNeighborsClassifier(algorithm='auto', leaf_size=30, metric='minkowski',\n",
       "                     metric_params=None, n_jobs=None, n_neighbors=20, p=2,\n",
       "                     weights='uniform')"
      ]
     },
     "execution_count": 71,
     "metadata": {},
     "output_type": "execute_result"
    }
   ],
   "source": [
    "# without normalizing data \n",
    "neigh = KNeighborsClassifier(n_neighbors=20)\n",
    "neigh.fit(Xtrain,ytrain)"
   ]
  },
  {
   "cell_type": "code",
   "execution_count": 74,
   "metadata": {},
   "outputs": [],
   "source": [
    "yhat_ts = neigh.predict(Xtest)"
   ]
  },
  {
   "cell_type": "code",
   "execution_count": 73,
   "metadata": {},
   "outputs": [
    {
     "data": {
      "text/plain": [
       "92690     0\n",
       "38460     0\n",
       "76087     1\n",
       "18083     0\n",
       "77878     1\n",
       "         ..\n",
       "108621    0\n",
       "90672     1\n",
       "61232     0\n",
       "116342    0\n",
       "23770     1\n",
       "Name: SHOT_RESULT, Length: 29753, dtype: int64"
      ]
     },
     "execution_count": 73,
     "metadata": {},
     "output_type": "execute_result"
    }
   ],
   "source": [
    "ytest"
   ]
  },
  {
   "cell_type": "code",
   "execution_count": 75,
   "metadata": {},
   "outputs": [
    {
     "name": "stdout",
     "output_type": "stream",
     "text": [
      "Accuracy = 0.630121\n"
     ]
    }
   ],
   "source": [
    "acc = np.mean(ytest == yhat_ts)\n",
    "print('Accuracy = {0:f}'.format(acc))"
   ]
  },
  {
   "cell_type": "code",
   "execution_count": 76,
   "metadata": {},
   "outputs": [],
   "source": [
    "# with normaliziation \n",
    "scaler = StandardScaler()\n",
    "scaler.fit(Xtrain)\n",
    "Xtrain_norm = scaler.transform(Xtrain)\n",
    "scaler.fit(Xtest)\n",
    "Xtest_norm = scaler.transform(Xtest)"
   ]
  },
  {
   "cell_type": "code",
   "execution_count": 77,
   "metadata": {},
   "outputs": [],
   "source": [
    "neigh = KNeighborsClassifier(n_neighbors=20)\n",
    "neigh.fit(Xtrain_norm,ytrain)\n",
    "yhat_ts_norm = neigh.predict(Xtest_norm)"
   ]
  },
  {
   "cell_type": "code",
   "execution_count": 78,
   "metadata": {},
   "outputs": [
    {
     "name": "stdout",
     "output_type": "stream",
     "text": [
      "Accuracy = 1.000000\n"
     ]
    }
   ],
   "source": [
    "acc = np.mean(ytest == yhat_ts_norm)\n",
    "print('Accuracy = {0:f}'.format(acc))"
   ]
  },
  {
   "cell_type": "code",
   "execution_count": 79,
   "metadata": {},
   "outputs": [
    {
     "data": {
      "text/plain": [
       "array([[ 1.17997593,  1.34156716,  1.50316474, ..., -0.86539633,\n",
       "        -1.00772655,  1.00772655],\n",
       "       [-0.09789587,  1.34156716,  0.48305355, ...,  1.35858441,\n",
       "         0.99233269, -0.99233269],\n",
       "       [-1.16278903, -1.28838415, -0.50734567, ...,  1.17325268,\n",
       "        -1.00772655,  1.00772655],\n",
       "       ...,\n",
       "       [ 0.3280614 ,  0.46491672,  0.57714147, ...,  0.06126231,\n",
       "        -1.00772655,  1.00772655],\n",
       "       [ 3.09678362,  1.34156716,  0.1562218 , ..., -0.86539633,\n",
       "        -1.00772655,  1.00772655],\n",
       "       [-0.52385313, -0.41173371,  1.23575695, ..., -0.86539633,\n",
       "        -1.00772655,  1.00772655]])"
      ]
     },
     "execution_count": 79,
     "metadata": {},
     "output_type": "execute_result"
    }
   ],
   "source": [
    "Xtest_norm"
   ]
  },
  {
   "cell_type": "code",
   "execution_count": null,
   "metadata": {},
   "outputs": [],
   "source": []
  }
 ],
 "metadata": {
  "kernelspec": {
   "display_name": "Python 3",
   "language": "python",
   "name": "python3"
  },
  "language_info": {
   "codemirror_mode": {
    "name": "ipython",
    "version": 3
   },
   "file_extension": ".py",
   "mimetype": "text/x-python",
   "name": "python",
   "nbconvert_exporter": "python",
   "pygments_lexer": "ipython3",
   "version": "3.7.4"
  }
 },
 "nbformat": 4,
 "nbformat_minor": 2
}
