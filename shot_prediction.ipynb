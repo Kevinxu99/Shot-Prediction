{
 "cells": [
  {
   "cell_type": "code",
   "execution_count": 1,
   "metadata": {},
   "outputs": [],
   "source": [
    "import pandas as pd\n",
    "import numpy as np \n",
    "import matplotlib \n",
    "import matplotlib.pyplot as plt\n",
    "from sklearn.model_selection import train_test_split\n",
    "from sklearn.preprocessing import StandardScaler\n",
    "from sklearn.neighbors import KNeighborsClassifier\n",
    "%matplotlib inline"
   ]
  },
  {
   "cell_type": "markdown",
   "metadata": {},
   "source": [
    "### Loading the data "
   ]
  },
  {
   "cell_type": "code",
   "execution_count": 2,
   "metadata": {},
   "outputs": [
    {
     "data": {
      "text/plain": [
       "(119011, 34)"
      ]
     },
     "execution_count": 2,
     "metadata": {},
     "output_type": "execute_result"
    }
   ],
   "source": [
    "data = pd.read_csv('Data/data.csv')\n",
    "pd.set_option('display.max_columns', None)\n",
    "data.shape"
   ]
  },
  {
   "cell_type": "code",
   "execution_count": 3,
   "metadata": {},
   "outputs": [
    {
     "data": {
      "text/html": [
       "<div>\n",
       "<style scoped>\n",
       "    .dataframe tbody tr th:only-of-type {\n",
       "        vertical-align: middle;\n",
       "    }\n",
       "\n",
       "    .dataframe tbody tr th {\n",
       "        vertical-align: top;\n",
       "    }\n",
       "\n",
       "    .dataframe thead th {\n",
       "        text-align: right;\n",
       "    }\n",
       "</style>\n",
       "<table border=\"1\" class=\"dataframe\">\n",
       "  <thead>\n",
       "    <tr style=\"text-align: right;\">\n",
       "      <th></th>\n",
       "      <th>GAME_ID</th>\n",
       "      <th>MATCHUP</th>\n",
       "      <th>LOCATION</th>\n",
       "      <th>W</th>\n",
       "      <th>FINAL_MARGIN</th>\n",
       "      <th>SHOT_NUMBER</th>\n",
       "      <th>PERIOD</th>\n",
       "      <th>GAME_CLOCK</th>\n",
       "      <th>SHOT_CLOCK</th>\n",
       "      <th>DRIBBLES</th>\n",
       "      <th>TOUCH_TIME</th>\n",
       "      <th>SHOT_DIST</th>\n",
       "      <th>PTS_TYPE</th>\n",
       "      <th>SHOT_RESULT</th>\n",
       "      <th>CLOSEST_DEFENDER</th>\n",
       "      <th>CLOSEST_DEFENDER_PLAYER_ID</th>\n",
       "      <th>CLOSE_DEF_DIST</th>\n",
       "      <th>FGM</th>\n",
       "      <th>PTS</th>\n",
       "      <th>PLAYER_NAME</th>\n",
       "      <th>PLAYER_ID</th>\n",
       "      <th>PLAYER_HEIGHT</th>\n",
       "      <th>DEFENDER_HEIGHT</th>\n",
       "      <th>PLAYER_PTS</th>\n",
       "      <th>PLAYER_FG%</th>\n",
       "      <th>PLAYER_3P%</th>\n",
       "      <th>PLAYER_FT%</th>\n",
       "      <th>PLAYER_AST</th>\n",
       "      <th>PLAYER_WEIGHT</th>\n",
       "      <th>DEFENDER_OREB</th>\n",
       "      <th>DEFENDER_DREB</th>\n",
       "      <th>DEFENDER_STL</th>\n",
       "      <th>DEFENDER_BLK</th>\n",
       "      <th>DEFENDER_WEIGHT</th>\n",
       "    </tr>\n",
       "  </thead>\n",
       "  <tbody>\n",
       "    <tr>\n",
       "      <td>119006</td>\n",
       "      <td>21400175</td>\n",
       "      <td>NOV 21, 2014 - MIL @ TOR</td>\n",
       "      <td>A</td>\n",
       "      <td>L</td>\n",
       "      <td>-42</td>\n",
       "      <td>3</td>\n",
       "      <td>4</td>\n",
       "      <td>8:55</td>\n",
       "      <td>15.2</td>\n",
       "      <td>0</td>\n",
       "      <td>0.8</td>\n",
       "      <td>22.9</td>\n",
       "      <td>3</td>\n",
       "      <td>missed</td>\n",
       "      <td>BRUNO CABOCLO</td>\n",
       "      <td>203998</td>\n",
       "      <td>10.6</td>\n",
       "      <td>0</td>\n",
       "      <td>0</td>\n",
       "      <td>JARED DUDLEY</td>\n",
       "      <td>201162</td>\n",
       "      <td>197.5</td>\n",
       "      <td>202.5</td>\n",
       "      <td>7.2</td>\n",
       "      <td>46.8</td>\n",
       "      <td>38.5</td>\n",
       "      <td>71.6</td>\n",
       "      <td>1.8</td>\n",
       "      <td>101.25</td>\n",
       "      <td>0.1</td>\n",
       "      <td>0.1</td>\n",
       "      <td>0.0</td>\n",
       "      <td>0.1</td>\n",
       "      <td>98.10</td>\n",
       "    </tr>\n",
       "    <tr>\n",
       "      <td>119007</td>\n",
       "      <td>21400003</td>\n",
       "      <td>OCT 28, 2014 - HOU @ LAL</td>\n",
       "      <td>A</td>\n",
       "      <td>W</td>\n",
       "      <td>18</td>\n",
       "      <td>3</td>\n",
       "      <td>3</td>\n",
       "      <td>1:35</td>\n",
       "      <td>3.3</td>\n",
       "      <td>1</td>\n",
       "      <td>2.4</td>\n",
       "      <td>6.7</td>\n",
       "      <td>2</td>\n",
       "      <td>made</td>\n",
       "      <td>JULIUS RANDLE</td>\n",
       "      <td>203944</td>\n",
       "      <td>5.3</td>\n",
       "      <td>1</td>\n",
       "      <td>2</td>\n",
       "      <td>KOSTAS PAPANIKOLAOU</td>\n",
       "      <td>203123</td>\n",
       "      <td>200.0</td>\n",
       "      <td>202.5</td>\n",
       "      <td>4.2</td>\n",
       "      <td>35.0</td>\n",
       "      <td>29.2</td>\n",
       "      <td>72.2</td>\n",
       "      <td>2.0</td>\n",
       "      <td>101.25</td>\n",
       "      <td>0.0</td>\n",
       "      <td>0.0</td>\n",
       "      <td>0.0</td>\n",
       "      <td>0.0</td>\n",
       "      <td>112.50</td>\n",
       "    </tr>\n",
       "    <tr>\n",
       "      <td>119008</td>\n",
       "      <td>21400003</td>\n",
       "      <td>OCT 28, 2014 - HOU @ LAL</td>\n",
       "      <td>A</td>\n",
       "      <td>W</td>\n",
       "      <td>18</td>\n",
       "      <td>2</td>\n",
       "      <td>2</td>\n",
       "      <td>10:10</td>\n",
       "      <td>24.0</td>\n",
       "      <td>0</td>\n",
       "      <td>0.3</td>\n",
       "      <td>4.1</td>\n",
       "      <td>2</td>\n",
       "      <td>made</td>\n",
       "      <td>JULIUS RANDLE</td>\n",
       "      <td>203944</td>\n",
       "      <td>3.2</td>\n",
       "      <td>1</td>\n",
       "      <td>2</td>\n",
       "      <td>DWIGHT HOWARD</td>\n",
       "      <td>2730</td>\n",
       "      <td>207.5</td>\n",
       "      <td>202.5</td>\n",
       "      <td>15.8</td>\n",
       "      <td>59.3</td>\n",
       "      <td>50.0</td>\n",
       "      <td>52.8</td>\n",
       "      <td>1.2</td>\n",
       "      <td>119.25</td>\n",
       "      <td>0.0</td>\n",
       "      <td>0.0</td>\n",
       "      <td>0.0</td>\n",
       "      <td>0.0</td>\n",
       "      <td>112.50</td>\n",
       "    </tr>\n",
       "    <tr>\n",
       "      <td>119009</td>\n",
       "      <td>21400744</td>\n",
       "      <td>FEB 05, 2015 - SAC vs. DAL</td>\n",
       "      <td>H</td>\n",
       "      <td>L</td>\n",
       "      <td>-23</td>\n",
       "      <td>9</td>\n",
       "      <td>4</td>\n",
       "      <td>3:21</td>\n",
       "      <td>13.3</td>\n",
       "      <td>5</td>\n",
       "      <td>5.4</td>\n",
       "      <td>21.9</td>\n",
       "      <td>2</td>\n",
       "      <td>missed</td>\n",
       "      <td>RICKY LEDO</td>\n",
       "      <td>203495</td>\n",
       "      <td>5.0</td>\n",
       "      <td>0</td>\n",
       "      <td>0</td>\n",
       "      <td>NIK STAUSKAS</td>\n",
       "      <td>203917</td>\n",
       "      <td>195.0</td>\n",
       "      <td>201.0</td>\n",
       "      <td>4.4</td>\n",
       "      <td>36.5</td>\n",
       "      <td>32.2</td>\n",
       "      <td>85.9</td>\n",
       "      <td>0.9</td>\n",
       "      <td>92.25</td>\n",
       "      <td>0.9</td>\n",
       "      <td>1.2</td>\n",
       "      <td>0.4</td>\n",
       "      <td>0.1</td>\n",
       "      <td>88.00</td>\n",
       "    </tr>\n",
       "    <tr>\n",
       "      <td>119010</td>\n",
       "      <td>21400498</td>\n",
       "      <td>JAN 03, 2015 - MIN vs. UTA</td>\n",
       "      <td>H</td>\n",
       "      <td>L</td>\n",
       "      <td>-12</td>\n",
       "      <td>7</td>\n",
       "      <td>4</td>\n",
       "      <td>0:26</td>\n",
       "      <td>2.6</td>\n",
       "      <td>1</td>\n",
       "      <td>0.7</td>\n",
       "      <td>4.3</td>\n",
       "      <td>2</td>\n",
       "      <td>made</td>\n",
       "      <td>TOURE' MURRY</td>\n",
       "      <td>203315</td>\n",
       "      <td>2.8</td>\n",
       "      <td>1</td>\n",
       "      <td>2</td>\n",
       "      <td>ANTHONY BENNETT</td>\n",
       "      <td>203461</td>\n",
       "      <td>200.0</td>\n",
       "      <td>192.5</td>\n",
       "      <td>5.2</td>\n",
       "      <td>42.1</td>\n",
       "      <td>30.4</td>\n",
       "      <td>64.1</td>\n",
       "      <td>0.8</td>\n",
       "      <td>110.25</td>\n",
       "      <td>0.2</td>\n",
       "      <td>0.0</td>\n",
       "      <td>0.2</td>\n",
       "      <td>0.0</td>\n",
       "      <td>87.75</td>\n",
       "    </tr>\n",
       "  </tbody>\n",
       "</table>\n",
       "</div>"
      ],
      "text/plain": [
       "         GAME_ID                     MATCHUP LOCATION  W  FINAL_MARGIN  \\\n",
       "119006  21400175    NOV 21, 2014 - MIL @ TOR        A  L           -42   \n",
       "119007  21400003    OCT 28, 2014 - HOU @ LAL        A  W            18   \n",
       "119008  21400003    OCT 28, 2014 - HOU @ LAL        A  W            18   \n",
       "119009  21400744  FEB 05, 2015 - SAC vs. DAL        H  L           -23   \n",
       "119010  21400498  JAN 03, 2015 - MIN vs. UTA        H  L           -12   \n",
       "\n",
       "        SHOT_NUMBER  PERIOD GAME_CLOCK  SHOT_CLOCK  DRIBBLES  TOUCH_TIME  \\\n",
       "119006            3       4       8:55        15.2         0         0.8   \n",
       "119007            3       3       1:35         3.3         1         2.4   \n",
       "119008            2       2      10:10        24.0         0         0.3   \n",
       "119009            9       4       3:21        13.3         5         5.4   \n",
       "119010            7       4       0:26         2.6         1         0.7   \n",
       "\n",
       "        SHOT_DIST  PTS_TYPE SHOT_RESULT CLOSEST_DEFENDER  \\\n",
       "119006       22.9         3      missed    BRUNO CABOCLO   \n",
       "119007        6.7         2        made    JULIUS RANDLE   \n",
       "119008        4.1         2        made    JULIUS RANDLE   \n",
       "119009       21.9         2      missed       RICKY LEDO   \n",
       "119010        4.3         2        made     TOURE' MURRY   \n",
       "\n",
       "        CLOSEST_DEFENDER_PLAYER_ID  CLOSE_DEF_DIST  FGM  PTS  \\\n",
       "119006                      203998            10.6    0    0   \n",
       "119007                      203944             5.3    1    2   \n",
       "119008                      203944             3.2    1    2   \n",
       "119009                      203495             5.0    0    0   \n",
       "119010                      203315             2.8    1    2   \n",
       "\n",
       "                PLAYER_NAME  PLAYER_ID  PLAYER_HEIGHT  DEFENDER_HEIGHT  \\\n",
       "119006         JARED DUDLEY     201162          197.5            202.5   \n",
       "119007  KOSTAS PAPANIKOLAOU     203123          200.0            202.5   \n",
       "119008        DWIGHT HOWARD       2730          207.5            202.5   \n",
       "119009         NIK STAUSKAS     203917          195.0            201.0   \n",
       "119010      ANTHONY BENNETT     203461          200.0            192.5   \n",
       "\n",
       "        PLAYER_PTS  PLAYER_FG%  PLAYER_3P%  PLAYER_FT%  PLAYER_AST  \\\n",
       "119006         7.2        46.8        38.5        71.6         1.8   \n",
       "119007         4.2        35.0        29.2        72.2         2.0   \n",
       "119008        15.8        59.3        50.0        52.8         1.2   \n",
       "119009         4.4        36.5        32.2        85.9         0.9   \n",
       "119010         5.2        42.1        30.4        64.1         0.8   \n",
       "\n",
       "        PLAYER_WEIGHT  DEFENDER_OREB  DEFENDER_DREB  DEFENDER_STL  \\\n",
       "119006         101.25            0.1            0.1           0.0   \n",
       "119007         101.25            0.0            0.0           0.0   \n",
       "119008         119.25            0.0            0.0           0.0   \n",
       "119009          92.25            0.9            1.2           0.4   \n",
       "119010         110.25            0.2            0.0           0.2   \n",
       "\n",
       "        DEFENDER_BLK  DEFENDER_WEIGHT  \n",
       "119006           0.1            98.10  \n",
       "119007           0.0           112.50  \n",
       "119008           0.0           112.50  \n",
       "119009           0.1            88.00  \n",
       "119010           0.0            87.75  "
      ]
     },
     "execution_count": 3,
     "metadata": {},
     "output_type": "execute_result"
    }
   ],
   "source": [
    "data.tail()"
   ]
  },
  {
   "cell_type": "code",
   "execution_count": 4,
   "metadata": {},
   "outputs": [
    {
     "data": {
      "text/plain": [
       "array(['GAME_ID', 'MATCHUP', 'LOCATION', 'W', 'FINAL_MARGIN',\n",
       "       'SHOT_NUMBER', 'PERIOD', 'GAME_CLOCK', 'SHOT_CLOCK', 'DRIBBLES',\n",
       "       'TOUCH_TIME', 'SHOT_DIST', 'PTS_TYPE', 'SHOT_RESULT',\n",
       "       'CLOSEST_DEFENDER', 'CLOSEST_DEFENDER_PLAYER_ID', 'CLOSE_DEF_DIST',\n",
       "       'FGM', 'PTS', 'PLAYER_NAME', 'PLAYER_ID', 'PLAYER_HEIGHT',\n",
       "       'DEFENDER_HEIGHT', 'PLAYER_PTS', 'PLAYER_FG%', 'PLAYER_3P%',\n",
       "       'PLAYER_FT%', 'PLAYER_AST', 'PLAYER_WEIGHT', 'DEFENDER_OREB',\n",
       "       'DEFENDER_DREB', 'DEFENDER_STL', 'DEFENDER_BLK', 'DEFENDER_WEIGHT'],\n",
       "      dtype=object)"
      ]
     },
     "execution_count": 4,
     "metadata": {},
     "output_type": "execute_result"
    }
   ],
   "source": [
    "data.columns.values"
   ]
  },
  {
   "cell_type": "markdown",
   "metadata": {},
   "source": [
    "### Manipulating the data"
   ]
  },
  {
   "cell_type": "code",
   "execution_count": 3,
   "metadata": {},
   "outputs": [],
   "source": [
    "# separate data into matrix of predictor variables and vector of target variables\n",
    "names = ['LOCATION', 'SHOT_NUMBER', 'PERIOD', 'GAME_CLOCK', 'SHOT_CLOCK',\n",
    "         'DRIBBLES', 'SHOT_DIST', 'PTS_TYPE', 'CLOSE_DEF_DIST', 'FGM', 'PTS',\n",
    "         'PLAYER_HEIGHT','DEFENDER_HEIGHT', 'PLAYER_PTS', 'PLAYER_FG%', 'PLAYER_3P%',\n",
    "          'PLAYER_FT%','DEFENDER_STL', 'DEFENDER_BLK', 'SHOT_RESULT']\n",
    "\n",
    "# converting data to usable numerical data\n",
    "# todo: move this to preprocessing \n",
    "def convert_time(time_string):\n",
    "    time = time_string.split(':')\n",
    "    return float(time[0])*60 + float(time[1])\n",
    "\n",
    "# convert game_clock to seconds\n",
    "data['GAME_CLOCK'] = data['GAME_CLOCK'].apply(lambda x: convert_time(x))\n",
    "\n",
    "# convert shot_result to either 0 or 1\n",
    "data['SHOT_RESULT'] = (data['SHOT_RESULT'] == 'made').astype(int)\n",
    "# convert win to either 0 \n",
    "\n",
    "# encode categorical data \n",
    "data_encoded = pd.get_dummies(data[names])\n",
    "\n",
    "# split into train and test set with roughly 75-25 split\n",
    "train, test = train_test_split(data_encoded, test_size=0.25)\n",
    "Xtrain = train.drop(['SHOT_RESULT'], axis=1)\n",
    "ytrain = train['SHOT_RESULT']\n",
    "Xtest = test.drop(['SHOT_RESULT'], axis=1)\n",
    "ytest = test['SHOT_RESULT']"
   ]
  },
  {
   "cell_type": "markdown",
   "metadata": {},
   "source": [
    "### Setting the baseline\n",
    "\n",
    "First baseline we consider is to predict every shot within 5 feet of the basket as a make and anything else as a miss. "
   ]
  },
  {
   "cell_type": "code",
   "execution_count": 6,
   "metadata": {},
   "outputs": [
    {
     "name": "stdout",
     "output_type": "stream",
     "text": [
      "Accuracy = 0.607771\n"
     ]
    }
   ],
   "source": [
    "yhat = (Xtest['SHOT_DIST'] <= 5).astype(int)\n",
    "acc = np.mean(yhat == ytest)\n",
    "print('Accuracy = {0:f}'.format(acc))"
   ]
  },
  {
   "cell_type": "markdown",
   "metadata": {},
   "source": [
    "A more complex baseline we can try is to use k-nn algorithm. First, we need to normalize the data so that no one parameter exerts more influence on the result than others. "
   ]
  },
  {
   "cell_type": "code",
   "execution_count": 7,
   "metadata": {},
   "outputs": [
    {
     "data": {
      "text/plain": [
       "KNeighborsClassifier(algorithm='auto', leaf_size=30, metric='minkowski',\n",
       "                     metric_params=None, n_jobs=None, n_neighbors=20, p=2,\n",
       "                     weights='uniform')"
      ]
     },
     "execution_count": 7,
     "metadata": {},
     "output_type": "execute_result"
    }
   ],
   "source": [
    "# without normalizing data \n",
    "neigh = KNeighborsClassifier(n_neighbors=20)\n",
    "neigh.fit(Xtrain,ytrain)"
   ]
  },
  {
   "cell_type": "code",
   "execution_count": 8,
   "metadata": {},
   "outputs": [
    {
     "name": "stdout",
     "output_type": "stream",
     "text": [
      "Accuracy = 0.637179\n"
     ]
    }
   ],
   "source": [
    "yhat_ts = neigh.predict(Xtest)\n",
    "acc = np.mean(ytest.values == yhat_ts)\n",
    "print('Accuracy = {0:f}'.format(acc))"
   ]
  },
  {
   "cell_type": "code",
   "execution_count": 9,
   "metadata": {},
   "outputs": [
    {
     "data": {
      "text/plain": [
       "KNeighborsClassifier(algorithm='auto', leaf_size=30, metric='minkowski',\n",
       "                     metric_params=None, n_jobs=None, n_neighbors=20, p=2,\n",
       "                     weights='uniform')"
      ]
     },
     "execution_count": 9,
     "metadata": {},
     "output_type": "execute_result"
    }
   ],
   "source": [
    "# with normaliziation \n",
    "scaler = StandardScaler()\n",
    "scaler.fit(Xtrain)\n",
    "Xtrain_norm = scaler.transform(Xtrain)\n",
    "scaler.fit(Xtest)\n",
    "Xtest_norm = scaler.transform(Xtest)\n",
    "\n",
    "neigh = KNeighborsClassifier(n_neighbors=20)\n",
    "neigh.fit(Xtrain_norm,ytrain)"
   ]
  },
  {
   "cell_type": "code",
   "execution_count": null,
   "metadata": {},
   "outputs": [],
   "source": [
    "yhat_ts_norm = neigh.predict(Xtest_norm)\n",
    "acc = np.mean(ytest.values == yhat_ts_norm)\n",
    "print('Accuracy = {0:f}'.format(acc))"
   ]
  },
  {
   "cell_type": "code",
   "execution_count": null,
   "metadata": {},
   "outputs": [],
   "source": [
    "# finding out why the accuracy is so high \n",
    "Xtrain[Xtrain['FGM'] >= 1]"
   ]
  },
  {
   "cell_type": "code",
   "execution_count": null,
   "metadata": {},
   "outputs": [],
   "source": [
    "# FGM is not the total field goals made, but whether or not that \n",
    "# individual shot was made or not, so we need to drop this \n",
    "Xtrain_new = Xtrain.drop(['FGM','PTS'], axis=1)\n",
    "Xtest_new = Xtest.drop(['FGM', 'PTS'], axis=1)\n",
    "scaler_new = StandardScaler()\n",
    "scaler_new.fit(Xtrain_new)\n",
    "Xtrain_norm_new = scaler_new.transform(Xtrain_new)\n",
    "scaler_new.fit(Xtest_new)\n",
    "Xtest_norm_new = scaler_new.transform(Xtest_new)"
   ]
  },
  {
   "cell_type": "code",
   "execution_count": null,
   "metadata": {},
   "outputs": [],
   "source": [
    "neigh = KNeighborsClassifier(n_neighbors=20)\n",
    "neigh.fit(Xtrain_norm_new,ytrain)"
   ]
  },
  {
   "cell_type": "code",
   "execution_count": null,
   "metadata": {},
   "outputs": [],
   "source": [
    "yhat_ts_norm = neigh.predict(Xtest_norm_new)\n",
    "acc = np.mean(ytest.values == yhat_ts_norm)\n",
    "print('Accuracy = {0:f}'.format(acc))"
   ]
  },
  {
   "cell_type": "code",
   "execution_count": null,
   "metadata": {},
   "outputs": [],
   "source": [
    "# trying different k's\n",
    "neigh = KNeighborsClassifier(n_neighbors=10)\n",
    "neigh.fit(Xtrain_norm_new,ytrain)\n",
    "yhat_ts_norm = neigh.predict(Xtest_norm_new)\n",
    "acc = np.mean(ytest.values == yhat_ts_norm)\n",
    "print('Accuracy for k = 10: {0:f}'.format(acc))\n",
    "\n",
    "neigh = KNeighborsClassifier(n_neighbors=30)\n",
    "neigh.fit(Xtrain_norm_new,ytrain)\n",
    "yhat_ts_norm = neigh.predict(Xtest_norm_new)\n",
    "acc = np.mean(ytest.values == yhat_ts_norm)\n",
    "print('Accuracy for k = 30: {0:f}'.format(acc))\n",
    "\n",
    "neigh = KNeighborsClassifier(n_neighbors=50)\n",
    "neigh.fit(Xtrain_norm_new,ytrain)\n",
    "yhat_ts_norm = neigh.predict(Xtest_norm_new)\n",
    "acc = np.mean(ytest.values == yhat_ts_norm)\n",
    "print('Accuracy for k = 50: {0:f}'.format(acc))\n",
    "\n",
    "neigh = KNeighborsClassifier(n_neighbors=100)\n",
    "neigh.fit(Xtrain_norm_new,ytrain)\n",
    "yhat_ts_norm = neigh.predict(Xtest_norm_new)\n",
    "acc = np.mean(ytest.values == yhat_ts_norm)\n",
    "print('Accuracy for k = 100: {0:f}'.format(acc))"
   ]
  },
  {
   "cell_type": "markdown",
   "metadata": {},
   "source": [
    "Accuracy increases as k increases but the increases get smaller as k gets larger and larger. Let's try manually assigning weights to normalized features now and transforming features "
   ]
  },
  {
   "cell_type": "markdown",
   "metadata": {},
   "source": [
    "### Visualizing relationship between features and output\n",
    "\n",
    "The goal is to see if there are trends between the features and the outcome. This is so we can manually input some weights for the KNN method to increase the baseline accuracy"
   ]
  },
  {
   "cell_type": "code",
   "execution_count": null,
   "metadata": {},
   "outputs": [],
   "source": [
    "y = ytrain.values\n",
    "make = (y==1)\n",
    "miss = (y==0)\n",
    "\n",
    "def plot_cnt(X,y,labels,ylim=None,xlim=None,start=0,end=-1):\n",
    "    \n",
    "    # add random \"jitter\" to seperate points\n",
    "    var = .15;\n",
    "    Xnew = X[start:end]\n",
    "    makenew = make[start:end]\n",
    "    missnew= miss[start:end]\n",
    "    Xj = Xnew + var*np.random.randn(Xnew.shape[0],Xnew.shape[1]) \n",
    "\n",
    "    # Create the scatter plot\n",
    "    plt.plot(Xj[makenew,0],Xj[makenew,1],'b.')\n",
    "    plt.plot(Xj[missnew,0],Xj[missnew,1],'g.')\n",
    "    plt.xlabel(labels[0], fontsize=16)\n",
    "    plt.ylabel(labels[1], fontsize=16)\n",
    "    plt.ylim(ylim)\n",
    "    plt.xlim(xlim)\n",
    "    plt.legend(['make','miss'],loc='upper right')\n",
    "    return plt"
   ]
  },
  {
   "cell_type": "code",
   "execution_count": null,
   "metadata": {},
   "outputs": [],
   "source": [
    "xnames1 = ['SHOT_DIST', 'DEFENDER_BLK']\n",
    "X1 = Xtrain[xnames1].values\n",
    "\n",
    "plot_cnt(X1,y,xnames1,ylim=(0,3.5),end=3000)"
   ]
  },
  {
   "cell_type": "code",
   "execution_count": null,
   "metadata": {},
   "outputs": [],
   "source": [
    "plot_cnt(X1,y,xnames1,ylim=(0,3.5),start=3000,end=6000)"
   ]
  },
  {
   "cell_type": "code",
   "execution_count": null,
   "metadata": {},
   "outputs": [],
   "source": [
    "plot_cnt(X1,y,xnames1,ylim=(0,3.5),start=6000,end=9000)"
   ]
  },
  {
   "cell_type": "code",
   "execution_count": null,
   "metadata": {},
   "outputs": [],
   "source": [
    "xnames2 = ['SHOT_DIST', 'CLOSE_DEF_DIST']\n",
    "X2 = Xtrain[xnames2].values"
   ]
  },
  {
   "cell_type": "code",
   "execution_count": null,
   "metadata": {},
   "outputs": [],
   "source": [
    "plot_cnt(X2,y,xnames2,ylim=(0,12),end=3000)"
   ]
  },
  {
   "cell_type": "code",
   "execution_count": null,
   "metadata": {},
   "outputs": [],
   "source": [
    "plot_cnt(X2,y,xnames2,ylim=(0,12),start=3000,end=6000)"
   ]
  },
  {
   "cell_type": "code",
   "execution_count": null,
   "metadata": {},
   "outputs": [],
   "source": [
    "plot_cnt(X2,y,xnames2,ylim=(0,12),start=6000,end=9000)"
   ]
  },
  {
   "cell_type": "code",
   "execution_count": null,
   "metadata": {},
   "outputs": [],
   "source": [
    "plot_cnt(X2,y,xnames2,ylim=(0,12),start=9000,end=12000)"
   ]
  },
  {
   "cell_type": "code",
   "execution_count": null,
   "metadata": {},
   "outputs": [],
   "source": [
    "xnames3 = ['SHOT_DIST', 'SHOT_CLOCK']\n",
    "X3 = Xtrain[xnames3].values\n",
    "\n",
    "plot_cnt(X3,y,xnames3,ylim=(0,25),end=3000)"
   ]
  },
  {
   "cell_type": "code",
   "execution_count": null,
   "metadata": {},
   "outputs": [],
   "source": [
    "plot_cnt(X3,y,xnames3,ylim=(0,25),start=3000,end=6000)"
   ]
  },
  {
   "cell_type": "code",
   "execution_count": null,
   "metadata": {},
   "outputs": [],
   "source": [
    "plot_cnt(X3,y,xnames3,ylim=(0,25),start=6000,end=9000)"
   ]
  },
  {
   "cell_type": "code",
   "execution_count": null,
   "metadata": {},
   "outputs": [],
   "source": [
    "xnames4 = ['SHOT_DIST', 'PLAYER_FG%']\n",
    "X4 = Xtrain[xnames4].values\n",
    "\n",
    "plot_cnt(X4,y,labels=xnames4,ylim=(30,70),end=3000)"
   ]
  },
  {
   "cell_type": "code",
   "execution_count": null,
   "metadata": {},
   "outputs": [],
   "source": [
    "xnames5 = ['CLOSE_DEF_DIST', 'DEFENDER_HEIGHT']\n",
    "X5 = Xtrain[xnames5].values\n",
    "\n",
    "plot_cnt(X5,y,xnames5,xlim=(0,20),end=2000)"
   ]
  },
  {
   "cell_type": "code",
   "execution_count": null,
   "metadata": {},
   "outputs": [],
   "source": [
    "# feature transformations\n",
    "Xtrain_new['SHOT_DST/DEF_BLKS'] = \\\n",
    "    Xtrain_new['SHOT_DIST']/Xtrain_new['DEFENDER_BLK']\n",
    "\n",
    "Xtest_new['SHOT_DST/DEF_BLKS'] = \\\n",
    "    Xtest_new['SHOT_DIST']/Xtest_new['DEFENDER_BLK']"
   ]
  },
  {
   "cell_type": "code",
   "execution_count": null,
   "metadata": {},
   "outputs": [],
   "source": [
    "Xtrain_new[Xtrain_new['DEF_BLKS/SHOT_DIST'] == np.inf]"
   ]
  },
  {
   "cell_type": "code",
   "execution_count": null,
   "metadata": {},
   "outputs": [],
   "source": [
    "Xtrain_new = Xtrain_new.replace([np.inf, -np.inf],0)\n",
    "Xtest_new = Xtest_new.replace([np.inf, -np.inf],0)"
   ]
  },
  {
   "cell_type": "code",
   "execution_count": null,
   "metadata": {},
   "outputs": [],
   "source": [
    "Xtrain_new"
   ]
  },
  {
   "cell_type": "code",
   "execution_count": null,
   "metadata": {},
   "outputs": [],
   "source": [
    "scaler_new = StandardScaler()\n",
    "scaler_new.fit(Xtrain_new)\n",
    "Xtrain_norm_new = scaler_new.transform(Xtrain_new)\n",
    "scaler_new.fit(Xtest_new)\n",
    "Xtest_norm_new = scaler_new.transform(Xtest_new)"
   ]
  },
  {
   "cell_type": "code",
   "execution_count": null,
   "metadata": {},
   "outputs": [],
   "source": [
    "neigh1 = KNeighborsClassifier(n_neighbors=100)\n",
    "neigh1.fit(Xtrain_norm_new,ytrain)"
   ]
  },
  {
   "cell_type": "code",
   "execution_count": null,
   "metadata": {},
   "outputs": [],
   "source": [
    "yhat_ts_norm = neigh1.predict(Xtest_norm_new)\n",
    "acc = np.mean(ytest.values == yhat_ts_norm)\n",
    "print('Accuracy: {0:f}'.format(acc))"
   ]
  },
  {
   "cell_type": "markdown",
   "metadata": {},
   "source": [
    "Very small increase in accuracy. Let's manually add weights. These weights are a guess on how much a certain feature will play into determining whether a shot is a miss or make. This is just from years of watching and playing basketball. "
   ]
  },
  {
   "cell_type": "code",
   "execution_count": null,
   "metadata": {},
   "outputs": [],
   "source": [
    "# increase weight of player PPG by 5 \n",
    "Xtrain_norm_new[:,10] = Xtrain_norm_new[:,10] * 5\n",
    "\n",
    "# increase weight of player FG% by 5\n",
    "Xtrain_norm_new[:,11] = Xtrain_norm_new[:,11] * 5\n",
    "\n",
    "# increase weight of player 3P% by 2\n",
    "Xtrain_norm_new[:,12] = Xtrain_norm_new[:,12] * 2\n",
    "\n",
    "# increase weight of closest defender distance by 3\n",
    "Xtrain_norm_new[:,7] = Xtrain_norm_new[:,7] * 3\n",
    "\n",
    "# increase weight of shot distance by 2\n",
    "Xtrain_norm_new[:,5] = Xtrain_norm_new[:,5] * 2"
   ]
  },
  {
   "cell_type": "code",
   "execution_count": null,
   "metadata": {},
   "outputs": [],
   "source": [
    "# do the same for Xtest\n",
    "Xtest_norm_new[:,10] = Xtest_norm_new[:,10] * 5\n",
    "Xtest_norm_new[:,11] = Xtest_norm_new[:,11] * 5\n",
    "Xtest_norm_new[:,12] = Xtest_norm_new[:,12] * 2\n",
    "Xtest_norm_new[:,7] = Xtest_norm_new[:,7] * 3\n",
    "Xtest_norm_new[:,5] = Xtest_norm_new[:,5] * 2"
   ]
  },
  {
   "cell_type": "code",
   "execution_count": null,
   "metadata": {},
   "outputs": [],
   "source": [
    "Xtrain_norm_new[0]"
   ]
  },
  {
   "cell_type": "code",
   "execution_count": null,
   "metadata": {},
   "outputs": [],
   "source": [
    "neigh1 = KNeighborsClassifier(n_neighbors=100)\n",
    "neigh1.fit(Xtrain_norm_new,ytrain)"
   ]
  },
  {
   "cell_type": "code",
   "execution_count": null,
   "metadata": {},
   "outputs": [],
   "source": [
    "yhat_ts_norm = neigh1.predict(Xtest_norm_new)\n",
    "acc = np.mean(ytest.values == yhat_ts_norm)\n",
    "print('Accuracy: {0:f}'.format(acc))"
   ]
  },
  {
   "cell_type": "markdown",
   "metadata": {},
   "source": [
    "Accuracy went down a bit. It seems that manually setting these weights is difficult, let's try using a neural network to learn these weights/biases/features automatically "
   ]
  },
  {
   "cell_type": "code",
   "execution_count": 4,
   "metadata": {},
   "outputs": [],
   "source": [
    "import tensorflow as tf\n",
    "from tensorflow.keras.models import Model, Sequential\n",
    "from tensorflow.keras.layers import Dense, Activation \n",
    "import tensorflow.keras.backend as K\n",
    "from tensorflow.keras import optimizers"
   ]
  },
  {
   "cell_type": "code",
   "execution_count": 5,
   "metadata": {},
   "outputs": [],
   "source": [
    "ytrain = ytrain.values\n",
    "ytest = ytest.values"
   ]
  },
  {
   "cell_type": "code",
   "execution_count": 6,
   "metadata": {},
   "outputs": [],
   "source": [
    "# renormalize test and train sets\n",
    "Xtr_new = Xtrain.drop(['FGM','PTS'], axis=1)\n",
    "Xts_new = Xtest.drop(['FGM', 'PTS'], axis=1)\n",
    "scaler_new = StandardScaler()\n",
    "scaler_new.fit(Xtr_new)\n",
    "Xtr_norm = scaler_new.transform(Xtr_new)\n",
    "scaler_new.fit(Xts_new)\n",
    "Xts_norm = scaler_new.transform(Xts_new)"
   ]
  },
  {
   "cell_type": "code",
   "execution_count": 7,
   "metadata": {},
   "outputs": [],
   "source": [
    "K.clear_session()"
   ]
  },
  {
   "cell_type": "code",
   "execution_count": null,
   "metadata": {},
   "outputs": [],
   "source": [
    "Xtr_new.shape"
   ]
  },
  {
   "cell_type": "code",
   "execution_count": 8,
   "metadata": {},
   "outputs": [],
   "source": [
    "nin = Xtr_new.shape[1] # number of inputs \n",
    "nout = 1 # make or miss"
   ]
  },
  {
   "cell_type": "code",
   "execution_count": 9,
   "metadata": {},
   "outputs": [],
   "source": [
    "# model with two hidden layers with 4 hidden units each\n",
    "# using sigmoid activation \n",
    "model1S = Sequential()\n",
    "model1S.add(Dense(units=4, input_shape=(nin,), activation='sigmoid', name='hidden1'))\n",
    "model1S.add(Dense(units=4, input_shape=(nin,), activation='sigmoid', name='hidden2'))\n",
    "model1S.add(Dense(units=nout, activation='sigmoid', name='output'))"
   ]
  },
  {
   "cell_type": "code",
   "execution_count": 10,
   "metadata": {},
   "outputs": [
    {
     "name": "stdout",
     "output_type": "stream",
     "text": [
      "Model: \"sequential\"\n",
      "_________________________________________________________________\n",
      "Layer (type)                 Output Shape              Param #   \n",
      "=================================================================\n",
      "hidden1 (Dense)              (None, 4)                 76        \n",
      "_________________________________________________________________\n",
      "hidden2 (Dense)              (None, 4)                 20        \n",
      "_________________________________________________________________\n",
      "output (Dense)               (None, 1)                 5         \n",
      "=================================================================\n",
      "Total params: 101\n",
      "Trainable params: 101\n",
      "Non-trainable params: 0\n",
      "_________________________________________________________________\n"
     ]
    }
   ],
   "source": [
    "model1S.summary()"
   ]
  },
  {
   "cell_type": "code",
   "execution_count": 11,
   "metadata": {},
   "outputs": [],
   "source": [
    "opt = optimizers.Adam(lr=0.001)\n",
    "model1S.compile(optimizer=opt,\n",
    "              loss='binary_crossentropy',\n",
    "              metrics=['accuracy'])"
   ]
  },
  {
   "cell_type": "code",
   "execution_count": null,
   "metadata": {},
   "outputs": [
    {
     "name": "stdout",
     "output_type": "stream",
     "text": [
      "Train on 89258 samples, validate on 29753 samples\n",
      "Epoch 1/30\n",
      "89258/89258 [==============================] - 10s 113us/sample - loss: 0.6826 - accuracy: 0.5610 - val_loss: 0.6749 - val_accuracy: 0.5942\n",
      "Epoch 2/30\n",
      "89258/89258 [==============================] - 10s 116us/sample - loss: 0.6690 - accuracy: 0.6010 - val_loss: 0.6654 - val_accuracy: 0.6078\n",
      "Epoch 3/30\n",
      "89258/89258 [==============================] - 9s 102us/sample - loss: 0.6630 - accuracy: 0.6068 - val_loss: 0.6615 - val_accuracy: 0.6104\n",
      "Epoch 4/30\n",
      "89258/89258 [==============================] - 9s 96us/sample - loss: 0.6605 - accuracy: 0.6091 - val_loss: 0.6597 - val_accuracy: 0.6121\n",
      "Epoch 5/30\n",
      "89258/89258 [==============================] - 9s 105us/sample - loss: 0.6592 - accuracy: 0.6106 - val_loss: 0.6588 - val_accuracy: 0.6137\n",
      "Epoch 6/30\n",
      "89258/89258 [==============================] - 10s 111us/sample - loss: 0.6582 - accuracy: 0.6105 - val_loss: 0.6585 - val_accuracy: 0.6136\n",
      "Epoch 7/30\n",
      "89258/89258 [==============================] - 9s 103us/sample - loss: 0.6574 - accuracy: 0.6123 - val_loss: 0.6573 - val_accuracy: 0.6144\n",
      "Epoch 8/30\n",
      "89258/89258 [==============================] - 10s 114us/sample - loss: 0.6565 - accuracy: 0.6128 - val_loss: 0.6563 - val_accuracy: 0.6140\n",
      "Epoch 9/30\n",
      "89258/89258 [==============================] - 8s 92us/sample - loss: 0.6557 - accuracy: 0.6135 - val_loss: 0.6557 - val_accuracy: 0.6136\n",
      "Epoch 10/30\n",
      "89258/89258 [==============================] - 8s 87us/sample - loss: 0.6548 - accuracy: 0.6147 - val_loss: 0.6551 - val_accuracy: 0.6145\n",
      "Epoch 11/30\n",
      "89258/89258 [==============================] - 8s 89us/sample - loss: 0.6541 - accuracy: 0.6164 - val_loss: 0.6545 - val_accuracy: 0.6152\n",
      "Epoch 12/30\n",
      "89258/89258 [==============================] - 7s 81us/sample - loss: 0.6533 - accuracy: 0.6162 - val_loss: 0.6539 - val_accuracy: 0.6162\n",
      "Epoch 13/30\n",
      "89258/89258 [==============================] - 8s 84us/sample - loss: 0.6527 - accuracy: 0.6175 - val_loss: 0.6534 - val_accuracy: 0.6169\n",
      "Epoch 14/30\n",
      "89258/89258 [==============================] - 8s 86us/sample - loss: 0.6522 - accuracy: 0.6176 - val_loss: 0.6535 - val_accuracy: 0.6155\n",
      "Epoch 15/30\n",
      "89258/89258 [==============================] - 7s 74us/sample - loss: 0.6518 - accuracy: 0.6178 - val_loss: 0.6529 - val_accuracy: 0.6178\n",
      "Epoch 16/30\n",
      "89258/89258 [==============================] - 7s 78us/sample - loss: 0.6514 - accuracy: 0.6183 - val_loss: 0.6530 - val_accuracy: 0.6164\n",
      "Epoch 17/30\n",
      "89258/89258 [==============================] - 9s 97us/sample - loss: 0.6512 - accuracy: 0.6186 - val_loss: 0.6528 - val_accuracy: 0.6167\n",
      "Epoch 18/30\n",
      "89258/89258 [==============================] - 11s 120us/sample - loss: 0.6510 - accuracy: 0.6187 - val_loss: 0.6525 - val_accuracy: 0.6166\n",
      "Epoch 19/30\n",
      "89258/89258 [==============================] - 9s 96us/sample - loss: 0.6508 - accuracy: 0.6186 - val_loss: 0.6525 - val_accuracy: 0.6161\n",
      "Epoch 20/30\n",
      "89258/89258 [==============================] - 8s 89us/sample - loss: 0.6507 - accuracy: 0.6187 - val_loss: 0.6523 - val_accuracy: 0.6165\n",
      "Epoch 21/30\n",
      "89258/89258 [==============================] - 8s 93us/sample - loss: 0.6506 - accuracy: 0.6184 - val_loss: 0.6522 - val_accuracy: 0.6168\n",
      "Epoch 22/30\n",
      "89258/89258 [==============================] - 9s 104us/sample - loss: 0.6504 - accuracy: 0.6188 - val_loss: 0.6525 - val_accuracy: 0.6160\n",
      "Epoch 23/30\n",
      "89258/89258 [==============================] - 9s 101us/sample - loss: 0.6503 - accuracy: 0.6188 - val_loss: 0.6522 - val_accuracy: 0.6176\n",
      "Epoch 24/30\n",
      "89258/89258 [==============================] - 10s 114us/sample - loss: 0.6503 - accuracy: 0.6192 - val_loss: 0.6526 - val_accuracy: 0.6163\n",
      "Epoch 25/30\n",
      "89258/89258 [==============================] - 8s 91us/sample - loss: 0.6502 - accuracy: 0.6190 - val_loss: 0.6526 - val_accuracy: 0.6157\n",
      "Epoch 26/30\n",
      "89258/89258 [==============================] - 7s 84us/sample - loss: 0.6501 - accuracy: 0.6187 - val_loss: 0.6521 - val_accuracy: 0.6162\n",
      "Epoch 27/30\n",
      "89258/89258 [==============================] - 9s 101us/sample - loss: 0.6501 - accuracy: 0.6189 - val_loss: 0.6526 - val_accuracy: 0.6164\n",
      "Epoch 28/30\n",
      "19500/89258 [=====>........................] - ETA: 6s - loss: 0.6510 - accuracy: 0.6183"
     ]
    }
   ],
   "source": [
    "model1S.fit(Xtr_norm, ytrain, epochs=30, batch_size=100, validation_data=(Xts_norm,ytest))"
   ]
  },
  {
   "cell_type": "code",
   "execution_count": null,
   "metadata": {},
   "outputs": [],
   "source": [
    "# model with two hidden layers with 8 hidden units each\n",
    "# using sigmoid activation \n",
    "model2S = Sequential()\n",
    "model2S.add(Dense(units=8, input_shape=(nin,), activation='sigmoid', name='hidden1'))\n",
    "model2S.add(Dense(units=8, input_shape=(nin,), activation='sigmoid', name='hidden2'))\n",
    "model2S.add(Dense(units=nout, activation='sigmoid', name='output'))\n",
    "model2S.summary()"
   ]
  },
  {
   "cell_type": "code",
   "execution_count": null,
   "metadata": {},
   "outputs": [],
   "source": [
    "model2S.compile(optimizer=opt,\n",
    "              loss='binary_crossentropy',\n",
    "              metrics=['accuracy'])"
   ]
  },
  {
   "cell_type": "code",
   "execution_count": null,
   "metadata": {},
   "outputs": [],
   "source": [
    "model2S.fit(Xtr_norm, ytrain, epochs=30, batch_size=100, validation_data=(Xts_norm,ytest))"
   ]
  },
  {
   "cell_type": "code",
   "execution_count": null,
   "metadata": {},
   "outputs": [],
   "source": [
    "# model with two hidden layers with 12 hidden units each\n",
    "# using sigmoid activation \n",
    "model3S = Sequential()\n",
    "model3S.add(Dense(units=12, input_shape=(nin,), activation='sigmoid', name='hidden1'))\n",
    "model3S.add(Dense(units=12, input_shape=(nin,), activation='sigmoid', name='hidden2'))\n",
    "model3S.add(Dense(units=nout, activation='sigmoid', name='output'))\n",
    "model3S.summary()"
   ]
  },
  {
   "cell_type": "code",
   "execution_count": null,
   "metadata": {},
   "outputs": [],
   "source": [
    "model3S.compile(optimizer=opt,\n",
    "              loss='binary_crossentropy',\n",
    "              metrics=['accuracy'])"
   ]
  },
  {
   "cell_type": "code",
   "execution_count": null,
   "metadata": {},
   "outputs": [],
   "source": [
    "model3S.fit(Xtr_norm, ytrain, epochs=30, batch_size=100, validation_data=(Xts_norm,ytest))"
   ]
  },
  {
   "cell_type": "code",
   "execution_count": null,
   "metadata": {},
   "outputs": [],
   "source": [
    "# model with two hidden layers with 16 hidden units each\n",
    "# using sigmoid activation \n",
    "model4S = Sequential()\n",
    "model4S.add(Dense(units=16, input_shape=(nin,), activation='sigmoid', name='hidden1'))\n",
    "model4S.add(Dense(units=16, input_shape=(nin,), activation='sigmoid', name='hidden2'))\n",
    "model4S.add(Dense(units=nout, activation='sigmoid', name='output'))\n",
    "model4S.summary()"
   ]
  },
  {
   "cell_type": "code",
   "execution_count": null,
   "metadata": {},
   "outputs": [],
   "source": [
    "model4S.compile(optimizer=opt,\n",
    "              loss='binary_crossentropy',\n",
    "              metrics=['accuracy'])"
   ]
  },
  {
   "cell_type": "code",
   "execution_count": null,
   "metadata": {},
   "outputs": [],
   "source": [
    "model4S.fit(Xtr_norm, ytrain, epochs=30, batch_size=100, validation_data=(Xts_norm,ytest))"
   ]
  },
  {
   "cell_type": "code",
   "execution_count": null,
   "metadata": {},
   "outputs": [],
   "source": [
    "# model with two hidden layers with 20 hidden units each\n",
    "# using sigmoid activation \n",
    "model5S = Sequential()\n",
    "model5S.add(Dense(units=, input_shape=(nin,), activation='sigmoid', name='hidden1'))\n",
    "model5S.add(Dense(units=20, input_shape=(nin,), activation='sigmoid', name='hidden2'))\n",
    "model5S.add(Dense(units=nout, activation='sigmoid', name='output'))\n",
    "model5S.summary()"
   ]
  },
  {
   "cell_type": "code",
   "execution_count": null,
   "metadata": {},
   "outputs": [],
   "source": [
    "model5S.compile(optimizer=opt,\n",
    "              loss='binary_crossentropy',\n",
    "              metrics=['accuracy'])"
   ]
  },
  {
   "cell_type": "code",
   "execution_count": null,
   "metadata": {},
   "outputs": [],
   "source": [
    "model5S.fit(Xtr_norm, ytrain, epochs=30, batch_size=100, validation_data=(Xts_norm,ytest))"
   ]
  },
  {
   "cell_type": "markdown",
   "metadata": {},
   "source": [
    "Accuracy doesn't seem to go over 62% with any of the models trained.\n",
    "We did not include the identity of either the player or the closest defender. Would that play a role in increasing accuracy?\n"
   ]
  },
  {
   "cell_type": "code",
   "execution_count": null,
   "metadata": {},
   "outputs": [],
   "source": [
    "data1 = pd.read_csv('Data/data.csv')\n",
    "\n",
    "# separate data into matrix of predictor variables and vector of target variables\n",
    "names1 = ['LOCATION', 'PLAYER_NAME', 'CLOSEST_DEFENDER','SHOT_NUMBER', 'PERIOD', 'GAME_CLOCK', 'SHOT_CLOCK',\n",
    "         'DRIBBLES', 'SHOT_DIST', 'PTS_TYPE', 'CLOSE_DEF_DIST', \n",
    "         'PLAYER_HEIGHT','DEFENDER_HEIGHT', 'PLAYER_PTS', 'PLAYER_FG%', 'PLAYER_3P%',\n",
    "          'PLAYER_FT%','DEFENDER_STL', 'DEFENDER_BLK', 'SHOT_RESULT']\n",
    "\n",
    "# convert shot_result to either 0 or 1\n",
    "data1['SHOT_RESULT'] = (data1['SHOT_RESULT'] == 'made').astype(int)\n",
    "\n",
    "# convert game_clock to seconds\n",
    "data1['GAME_CLOCK'] = data1['GAME_CLOCK'].apply(lambda x: convert_time(x))\n",
    "\n",
    "# encode categorical data \n",
    "data_encoded = pd.get_dummies(data1[names1])\n",
    "\n",
    "# split into train and test set with roughly 75-25 split\n",
    "train, test = train_test_split(data_encoded, test_size=0.25)\n",
    "Xtr1 = train.drop(['SHOT_RESULT'], axis=1)\n",
    "ytr1 = train['SHOT_RESULT']\n",
    "Xts1 = test.drop(['SHOT_RESULT'], axis=1)\n",
    "yts1 = test['SHOT_RESULT']"
   ]
  },
  {
   "cell_type": "code",
   "execution_count": null,
   "metadata": {},
   "outputs": [],
   "source": [
    "ytr1 = ytr1.values\n",
    "yts1 = yts1.values"
   ]
  },
  {
   "cell_type": "code",
   "execution_count": null,
   "metadata": {},
   "outputs": [],
   "source": [
    "# normalization\n",
    "scaler = StandardScaler()\n",
    "scaler.fit(Xtr1)\n",
    "Xtr1 = scaler.transform(Xtr1)\n",
    "scaler.fit(Xts1)\n",
    "Xts1 = scaler.transform(Xts1)"
   ]
  },
  {
   "cell_type": "code",
   "execution_count": null,
   "metadata": {},
   "outputs": [],
   "source": [
    "K.clear_session()"
   ]
  },
  {
   "cell_type": "code",
   "execution_count": null,
   "metadata": {},
   "outputs": [],
   "source": [
    "Xtr1.shape"
   ]
  },
  {
   "cell_type": "code",
   "execution_count": null,
   "metadata": {},
   "outputs": [],
   "source": [
    "nin = Xtr1.shape[1] # number of inputs \n",
    "nout = 1 # make or miss"
   ]
  },
  {
   "cell_type": "code",
   "execution_count": null,
   "metadata": {},
   "outputs": [],
   "source": [
    "# model with two hidden layers with 100 hidden units each\n",
    "# using sigmoid activation \n",
    "model100 = Sequential()\n",
    "model100.add(Dense(units=100, input_shape=(nin,), activation='sigmoid', name='hidden1'))\n",
    "model100.add(Dense(units=100, input_shape=(nin,), activation='sigmoid', name='hidden2'))\n",
    "model100.add(Dense(units=nout, activation='sigmoid', name='output'))\n",
    "model100.summary()"
   ]
  },
  {
   "cell_type": "code",
   "execution_count": null,
   "metadata": {},
   "outputs": [],
   "source": [
    "model100.compile(optimizer=opt,\n",
    "              loss='binary_crossentropy',\n",
    "              metrics=['accuracy'])"
   ]
  },
  {
   "cell_type": "code",
   "execution_count": null,
   "metadata": {},
   "outputs": [],
   "source": [
    "model100.fit(Xtr1, ytr1, epochs=30, batch_size=100, validation_data=(Xts1,yts1))"
   ]
  },
  {
   "cell_type": "markdown",
   "metadata": {},
   "source": [
    "Validation accuracy horrible while training accuracy goes up. Overfitting? Decrease hidden units. Let's start low again. From 16 let's say. And go up to ~50"
   ]
  },
  {
   "cell_type": "code",
   "execution_count": null,
   "metadata": {},
   "outputs": [],
   "source": [
    "# model with two hidden layers with 16 hidden units each\n",
    "# using sigmoid activation \n",
    "model16 = Sequential()\n",
    "model16.add(Dense(units=16, input_shape=(nin,), activation='sigmoid', name='hidden1'))\n",
    "model16.add(Dense(units=16, input_shape=(nin,), activation='sigmoid', name='hidden2'))\n",
    "model16.add(Dense(units=nout, activation='sigmoid', name='output'))\n",
    "model16.summary()"
   ]
  },
  {
   "cell_type": "code",
   "execution_count": null,
   "metadata": {},
   "outputs": [],
   "source": [
    "model16.compile(optimizer=opt,\n",
    "              loss='binary_crossentropy',\n",
    "              metrics=['accuracy'])"
   ]
  },
  {
   "cell_type": "code",
   "execution_count": null,
   "metadata": {},
   "outputs": [],
   "source": [
    "model16.fit(Xtr1, ytr1, epochs=30, batch_size=100, validation_data=(Xts1,yts1))"
   ]
  },
  {
   "cell_type": "code",
   "execution_count": null,
   "metadata": {},
   "outputs": [],
   "source": [
    "# model with two hidden layers with 12 hidden units each\n",
    "# using sigmoid activation \n",
    "model12 = Sequential()\n",
    "model12.add(Dense(units=12, input_shape=(nin,), activation='sigmoid', name='hidden1'))\n",
    "model12.add(Dense(units=12, input_shape=(nin,), activation='sigmoid', name='hidden2'))\n",
    "model12.add(Dense(units=nout, activation='sigmoid', name='output'))\n",
    "model12.summary()"
   ]
  },
  {
   "cell_type": "code",
   "execution_count": null,
   "metadata": {},
   "outputs": [],
   "source": [
    "model12.compile(optimizer=opt,\n",
    "              loss='binary_crossentropy',\n",
    "              metrics=['accuracy'])"
   ]
  },
  {
   "cell_type": "code",
   "execution_count": null,
   "metadata": {},
   "outputs": [],
   "source": [
    "model20.fit(Xtr1, ytr1, epochs=30, batch_size=100, validation_data=(Xts1,yts1))"
   ]
  },
  {
   "cell_type": "code",
   "execution_count": null,
   "metadata": {},
   "outputs": [],
   "source": [
    "# model with two hidden layers with 12 hidden units each\n",
    "# using sigmoid activation \n",
    "model12 = Sequential()\n",
    "model12.add(Dense(units=12, input_shape=(nin,), activation='sigmoid', name='hidden1'))\n",
    "model12.add(Dense(units=12, input_shape=(nin,), activation='sigmoid', name='hidden2'))\n",
    "model12.add(Dense(units=nout, activation='sigmoid', name='output'))\n",
    "model12.summary()"
   ]
  },
  {
   "cell_type": "code",
   "execution_count": null,
   "metadata": {},
   "outputs": [],
   "source": [
    "model12.compile(optimizer=opt,\n",
    "              loss='binary_crossentropy',\n",
    "              metrics=['accuracy'])"
   ]
  },
  {
   "cell_type": "code",
   "execution_count": null,
   "metadata": {},
   "outputs": [],
   "source": [
    "model12.fit(Xtr1, ytr1, epochs=30, batch_size=100, validation_data=(Xts1,yts1))"
   ]
  },
  {
   "cell_type": "code",
   "execution_count": null,
   "metadata": {},
   "outputs": [],
   "source": []
  },
  {
   "cell_type": "markdown",
   "metadata": {},
   "source": [
    "reweight parameters \n",
    "try different number of neighbors\n",
    "feature transformation \n",
    "- ratio of shot distance to shot defender, etc\n",
    "- do we keep the original features \n",
    "try logistic regression \n",
    " "
   ]
  },
  {
   "cell_type": "code",
   "execution_count": null,
   "metadata": {},
   "outputs": [],
   "source": []
  },
  {
   "cell_type": "code",
   "execution_count": null,
   "metadata": {},
   "outputs": [],
   "source": [
    "Xtrain_new['SHOT_DIST']/Xtrain_new['DEFENDER_BLK']"
   ]
  },
  {
   "cell_type": "code",
   "execution_count": null,
   "metadata": {},
   "outputs": [],
   "source": [
    "plt.ylim(6)"
   ]
  },
  {
   "cell_type": "code",
   "execution_count": null,
   "metadata": {},
   "outputs": [],
   "source": []
  }
 ],
 "metadata": {
  "kernelspec": {
   "display_name": "Python 3",
   "language": "python",
   "name": "python3"
  },
  "language_info": {
   "codemirror_mode": {
    "name": "ipython",
    "version": 3
   },
   "file_extension": ".py",
   "mimetype": "text/x-python",
   "name": "python",
   "nbconvert_exporter": "python",
   "pygments_lexer": "ipython3",
   "version": "3.7.4"
  }
 },
 "nbformat": 4,
 "nbformat_minor": 2
}
