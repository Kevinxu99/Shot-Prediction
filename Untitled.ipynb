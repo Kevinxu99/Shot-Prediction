{
 "cells": [
  {
   "cell_type": "code",
   "execution_count": 15,
   "metadata": {},
   "outputs": [
    {
     "name": "stdout",
     "output_type": "stream",
     "text": [
      "The autoreload extension is already loaded. To reload it, use:\n",
      "  %reload_ext autoreload\n"
     ]
    }
   ],
   "source": [
    "%load_ext autoreload\n",
    "%autoreload 2\n",
    "%matplotlib inline\n",
    "\n",
    "from sklearn.ensemble import RandomForestClassifier\n",
    "from sklearn.ensemble import AdaBoostClassifier\n",
    "from sklearn.model_selection import train_test_split\n",
    "from IPython.display import display \n",
    "import pandas as pd\n",
    "import numpy as np\n",
    "import matplotlib.pyplot as plt"
   ]
  },
  {
   "cell_type": "code",
   "execution_count": 61,
   "metadata": {},
   "outputs": [],
   "source": [
    "data = pd.read_csv('Data/data.csv')"
   ]
  },
  {
   "cell_type": "code",
   "execution_count": 62,
   "metadata": {},
   "outputs": [],
   "source": [
    "# separate data into matrix of predictor variables and vector of target variables\n",
    "names = np.array(['LOCATION', 'SHOT_NUMBER', 'PERIOD', 'GAME_CLOCK', 'SHOT_CLOCK',\n",
    "         'DRIBBLES', 'TOUCH_TIME', 'SHOT_DIST', 'PTS_TYPE', 'CLOSE_DEF_DIST',\n",
    "         'PLAYER_HEIGHT','DEFENDER_HEIGHT', 'PLAYER_PTS', 'PLAYER_FG%', 'PLAYER_3P%',\n",
    "          'PLAYER_FT%','DEFENDER_STL', 'DEFENDER_BLK', 'SHOT_RESULT'])\n",
    "\n",
    "data=data[data['SHOT_DIST']<40]\n",
    "\n",
    "# converting data to usable numerical data\n",
    "# todo: move this to preprocessing \n",
    "def convert_time(time_string):\n",
    "    time = time_string.split(':')\n",
    "    return float(time[0])*60 + float(time[1])\n",
    "\n",
    "# convert game_clock to seconds\n",
    "data['GAME_CLOCK'] = data['GAME_CLOCK'].apply(lambda x: convert_time(x))\n",
    "\n",
    "# convert shot_result to either 0 or 1\n",
    "data['SHOT_RESULT'] = (data['SHOT_RESULT'] == 'made').astype(int)\n",
    "# convert win to either 0 \n",
    "\n",
    "# encode categorical data \n",
    "data_encoded = pd.get_dummies(data[names])\n",
    "\n",
    "# split into train and test set with roughly 75-25 split\n",
    "train, test = train_test_split(data_encoded, test_size=0.25)\n",
    "Xtrain = train.drop(['SHOT_RESULT'], axis=1)\n",
    "ytrain = train['SHOT_RESULT']\n",
    "Xtest = test.drop(['SHOT_RESULT'], axis=1)\n",
    "ytest = test['SHOT_RESULT']"
   ]
  },
  {
   "cell_type": "code",
   "execution_count": 28,
   "metadata": {},
   "outputs": [
    {
     "data": {
      "text/html": [
       "<div>\n",
       "<style scoped>\n",
       "    .dataframe tbody tr th:only-of-type {\n",
       "        vertical-align: middle;\n",
       "    }\n",
       "\n",
       "    .dataframe tbody tr th {\n",
       "        vertical-align: top;\n",
       "    }\n",
       "\n",
       "    .dataframe thead th {\n",
       "        text-align: right;\n",
       "    }\n",
       "</style>\n",
       "<table border=\"1\" class=\"dataframe\">\n",
       "  <thead>\n",
       "    <tr style=\"text-align: right;\">\n",
       "      <th></th>\n",
       "      <th>SHOT_NUMBER</th>\n",
       "      <th>PERIOD</th>\n",
       "      <th>GAME_CLOCK</th>\n",
       "      <th>SHOT_CLOCK</th>\n",
       "      <th>DRIBBLES</th>\n",
       "      <th>TOUCH_TIME</th>\n",
       "      <th>SHOT_DIST</th>\n",
       "      <th>PTS_TYPE</th>\n",
       "      <th>CLOSE_DEF_DIST</th>\n",
       "      <th>PLAYER_HEIGHT</th>\n",
       "      <th>DEFENDER_HEIGHT</th>\n",
       "      <th>PLAYER_PTS</th>\n",
       "      <th>PLAYER_FG%</th>\n",
       "      <th>PLAYER_3P%</th>\n",
       "      <th>PLAYER_FT%</th>\n",
       "      <th>DEFENDER_STL</th>\n",
       "      <th>DEFENDER_BLK</th>\n",
       "      <th>LOCATION_A</th>\n",
       "      <th>LOCATION_H</th>\n",
       "    </tr>\n",
       "  </thead>\n",
       "  <tbody>\n",
       "    <tr>\n",
       "      <td>106632</td>\n",
       "      <td>2</td>\n",
       "      <td>1</td>\n",
       "      <td>417.0</td>\n",
       "      <td>9.5</td>\n",
       "      <td>1</td>\n",
       "      <td>1.6</td>\n",
       "      <td>20.1</td>\n",
       "      <td>2</td>\n",
       "      <td>4.1</td>\n",
       "      <td>202.5</td>\n",
       "      <td>197.5</td>\n",
       "      <td>15.0</td>\n",
       "      <td>43.0</td>\n",
       "      <td>33.2</td>\n",
       "      <td>83.3</td>\n",
       "      <td>0.9</td>\n",
       "      <td>0.7</td>\n",
       "      <td>0</td>\n",
       "      <td>1</td>\n",
       "    </tr>\n",
       "    <tr>\n",
       "      <td>108034</td>\n",
       "      <td>3</td>\n",
       "      <td>2</td>\n",
       "      <td>436.0</td>\n",
       "      <td>9.5</td>\n",
       "      <td>0</td>\n",
       "      <td>3.0</td>\n",
       "      <td>14.0</td>\n",
       "      <td>2</td>\n",
       "      <td>3.6</td>\n",
       "      <td>213.0</td>\n",
       "      <td>213.0</td>\n",
       "      <td>8.0</td>\n",
       "      <td>43.4</td>\n",
       "      <td>35.7</td>\n",
       "      <td>83.0</td>\n",
       "      <td>0.5</td>\n",
       "      <td>0.8</td>\n",
       "      <td>1</td>\n",
       "      <td>0</td>\n",
       "    </tr>\n",
       "    <tr>\n",
       "      <td>29656</td>\n",
       "      <td>6</td>\n",
       "      <td>3</td>\n",
       "      <td>353.0</td>\n",
       "      <td>7.0</td>\n",
       "      <td>0</td>\n",
       "      <td>0.8</td>\n",
       "      <td>22.5</td>\n",
       "      <td>3</td>\n",
       "      <td>4.1</td>\n",
       "      <td>197.5</td>\n",
       "      <td>192.5</td>\n",
       "      <td>6.0</td>\n",
       "      <td>42.9</td>\n",
       "      <td>37.1</td>\n",
       "      <td>80.0</td>\n",
       "      <td>0.8</td>\n",
       "      <td>0.3</td>\n",
       "      <td>0</td>\n",
       "      <td>1</td>\n",
       "    </tr>\n",
       "    <tr>\n",
       "      <td>66559</td>\n",
       "      <td>6</td>\n",
       "      <td>2</td>\n",
       "      <td>567.0</td>\n",
       "      <td>21.7</td>\n",
       "      <td>1</td>\n",
       "      <td>2.9</td>\n",
       "      <td>9.4</td>\n",
       "      <td>2</td>\n",
       "      <td>2.3</td>\n",
       "      <td>192.5</td>\n",
       "      <td>202.5</td>\n",
       "      <td>9.2</td>\n",
       "      <td>42.3</td>\n",
       "      <td>37.4</td>\n",
       "      <td>84.8</td>\n",
       "      <td>0.9</td>\n",
       "      <td>0.8</td>\n",
       "      <td>1</td>\n",
       "      <td>0</td>\n",
       "    </tr>\n",
       "    <tr>\n",
       "      <td>71561</td>\n",
       "      <td>10</td>\n",
       "      <td>4</td>\n",
       "      <td>141.0</td>\n",
       "      <td>13.3</td>\n",
       "      <td>11</td>\n",
       "      <td>10.0</td>\n",
       "      <td>5.1</td>\n",
       "      <td>2</td>\n",
       "      <td>0.7</td>\n",
       "      <td>195.0</td>\n",
       "      <td>207.5</td>\n",
       "      <td>14.6</td>\n",
       "      <td>39.6</td>\n",
       "      <td>23.5</td>\n",
       "      <td>69.4</td>\n",
       "      <td>1.1</td>\n",
       "      <td>0.5</td>\n",
       "      <td>1</td>\n",
       "      <td>0</td>\n",
       "    </tr>\n",
       "  </tbody>\n",
       "</table>\n",
       "</div>"
      ],
      "text/plain": [
       "        SHOT_NUMBER  PERIOD  GAME_CLOCK  SHOT_CLOCK  DRIBBLES  TOUCH_TIME  \\\n",
       "106632            2       1       417.0         9.5         1         1.6   \n",
       "108034            3       2       436.0         9.5         0         3.0   \n",
       "29656             6       3       353.0         7.0         0         0.8   \n",
       "66559             6       2       567.0        21.7         1         2.9   \n",
       "71561            10       4       141.0        13.3        11        10.0   \n",
       "\n",
       "        SHOT_DIST  PTS_TYPE  CLOSE_DEF_DIST  PLAYER_HEIGHT  DEFENDER_HEIGHT  \\\n",
       "106632       20.1         2             4.1          202.5            197.5   \n",
       "108034       14.0         2             3.6          213.0            213.0   \n",
       "29656        22.5         3             4.1          197.5            192.5   \n",
       "66559         9.4         2             2.3          192.5            202.5   \n",
       "71561         5.1         2             0.7          195.0            207.5   \n",
       "\n",
       "        PLAYER_PTS  PLAYER_FG%  PLAYER_3P%  PLAYER_FT%  DEFENDER_STL  \\\n",
       "106632        15.0        43.0        33.2        83.3           0.9   \n",
       "108034         8.0        43.4        35.7        83.0           0.5   \n",
       "29656          6.0        42.9        37.1        80.0           0.8   \n",
       "66559          9.2        42.3        37.4        84.8           0.9   \n",
       "71561         14.6        39.6        23.5        69.4           1.1   \n",
       "\n",
       "        DEFENDER_BLK  LOCATION_A  LOCATION_H  \n",
       "106632           0.7           0           1  \n",
       "108034           0.8           1           0  \n",
       "29656            0.3           0           1  \n",
       "66559            0.8           1           0  \n",
       "71561            0.5           1           0  "
      ]
     },
     "execution_count": 28,
     "metadata": {},
     "output_type": "execute_result"
    }
   ],
   "source": [
    "Xtrain.head()"
   ]
  },
  {
   "cell_type": "code",
   "execution_count": 38,
   "metadata": {},
   "outputs": [
    {
     "name": "stderr",
     "output_type": "stream",
     "text": [
      "/home/irvin/anaconda3/lib/python3.7/site-packages/sklearn/ensemble/forest.py:245: FutureWarning: The default value of n_estimators will change from 10 in version 0.20 to 100 in 0.22.\n",
      "  \"10 in version 0.20 to 100 in 0.22.\", FutureWarning)\n"
     ]
    },
    {
     "data": {
      "text/plain": [
       "0.5843304651788115"
      ]
     },
     "execution_count": 38,
     "metadata": {},
     "output_type": "execute_result"
    }
   ],
   "source": [
    "m = RandomForestClassifier(n_jobs=-1)\n",
    "m.fit(Xtrain,ytrain)\n",
    "m.score(Xtest,ytest)"
   ]
  },
  {
   "cell_type": "code",
   "execution_count": 63,
   "metadata": {},
   "outputs": [
    {
     "data": {
      "text/plain": [
       "AdaBoostClassifier(algorithm='SAMME.R', base_estimator=None, learning_rate=1.0,\n",
       "                   n_estimators=100, random_state=0)"
      ]
     },
     "execution_count": 63,
     "metadata": {},
     "output_type": "execute_result"
    }
   ],
   "source": [
    "m1 = AdaBoostClassifier(n_estimators=100, random_state=0)\n",
    "m1.fit(Xtrain,ytrain)"
   ]
  },
  {
   "cell_type": "code",
   "execution_count": 64,
   "metadata": {},
   "outputs": [
    {
     "data": {
      "text/plain": [
       "(19,)"
      ]
     },
     "execution_count": 64,
     "metadata": {},
     "output_type": "execute_result"
    }
   ],
   "source": [
    "m1.feature_importances_.shape"
   ]
  },
  {
   "cell_type": "code",
   "execution_count": 57,
   "metadata": {},
   "outputs": [
    {
     "data": {
      "text/plain": [
       "numpy.int64"
      ]
     },
     "execution_count": 57,
     "metadata": {},
     "output_type": "execute_result"
    }
   ],
   "source": [
    "type(np.where(imp >= 0.05)[0][0])"
   ]
  },
  {
   "cell_type": "code",
   "execution_count": 66,
   "metadata": {},
   "outputs": [
    {
     "data": {
      "text/plain": [
       "array([False, False, False,  True,  True,  True,  True, False,  True,\n",
       "       False, False, False,  True, False, False, False,  True, False,\n",
       "       False])"
      ]
     },
     "execution_count": 66,
     "metadata": {},
     "output_type": "execute_result"
    }
   ],
   "source": [
    "imp >= 0.05"
   ]
  },
  {
   "cell_type": "code",
   "execution_count": 70,
   "metadata": {},
   "outputs": [
    {
     "data": {
      "text/plain": [
       "array(['LOCATION', 'SHOT_NUMBER', 'PERIOD', 'GAME_CLOCK', 'SHOT_CLOCK',\n",
       "       'DRIBBLES', 'TOUCH_TIME', 'SHOT_DIST', 'PTS_TYPE',\n",
       "       'CLOSE_DEF_DIST', 'PLAYER_HEIGHT', 'DEFENDER_HEIGHT', 'PLAYER_PTS',\n",
       "       'PLAYER_FG%', 'PLAYER_3P%', 'PLAYER_FT%', 'DEFENDER_STL',\n",
       "       'DEFENDER_BLK', 'SHOT_RESULT'], dtype='<U15')"
      ]
     },
     "execution_count": 70,
     "metadata": {},
     "output_type": "execute_result"
    }
   ],
   "source": [
    "names"
   ]
  },
  {
   "cell_type": "code",
   "execution_count": 69,
   "metadata": {},
   "outputs": [
    {
     "data": {
      "text/plain": [
       "array([0.02, 0.03, 0.03, 0.12, 0.05, 0.07, 0.24, 0.  , 0.14, 0.01, 0.04,\n",
       "       0.02, 0.07, 0.03, 0.04, 0.03, 0.05, 0.  , 0.01])"
      ]
     },
     "execution_count": 69,
     "metadata": {},
     "output_type": "execute_result"
    }
   ],
   "source": [
    "imp = m1.feature_importances_\n",
    "imp"
   ]
  },
  {
   "cell_type": "code",
   "execution_count": 68,
   "metadata": {},
   "outputs": [
    {
     "data": {
      "text/plain": [
       "array(['GAME_CLOCK', 'SHOT_CLOCK', 'DRIBBLES', 'TOUCH_TIME', 'PTS_TYPE',\n",
       "       'PLAYER_PTS', 'DEFENDER_STL'], dtype='<U15')"
      ]
     },
     "execution_count": 68,
     "metadata": {},
     "output_type": "execute_result"
    }
   ],
   "source": [
    "newnames = names[imp >= 0.05]\n",
    "newnames"
   ]
  },
  {
   "cell_type": "code",
   "execution_count": 71,
   "metadata": {},
   "outputs": [
    {
     "data": {
      "text/plain": [
       "array(['SHOT_NUMBER', 'PERIOD', 'GAME_CLOCK', 'SHOT_CLOCK', 'DRIBBLES',\n",
       "       'TOUCH_TIME', 'PTS_TYPE', 'PLAYER_HEIGHT', 'PLAYER_PTS',\n",
       "       'PLAYER_FG%', 'PLAYER_3P%', 'PLAYER_FT%', 'DEFENDER_STL'],\n",
       "      dtype='<U15')"
      ]
     },
     "execution_count": 71,
     "metadata": {},
     "output_type": "execute_result"
    }
   ],
   "source": [
    "newnames2 = names[imp >= 0.03]\n",
    "newnames2"
   ]
  },
  {
   "cell_type": "code",
   "execution_count": 42,
   "metadata": {},
   "outputs": [
    {
     "data": {
      "text/plain": [
       "0.6119588599085776"
      ]
     },
     "execution_count": 42,
     "metadata": {},
     "output_type": "execute_result"
    }
   ],
   "source": [
    "m1.score(Xtest,ytest)"
   ]
  },
  {
   "cell_type": "code",
   "execution_count": null,
   "metadata": {},
   "outputs": [],
   "source": []
  }
 ],
 "metadata": {
  "kernelspec": {
   "display_name": "Python 3",
   "language": "python",
   "name": "python3"
  },
  "language_info": {
   "codemirror_mode": {
    "name": "ipython",
    "version": 3
   },
   "file_extension": ".py",
   "mimetype": "text/x-python",
   "name": "python",
   "nbconvert_exporter": "python",
   "pygments_lexer": "ipython3",
   "version": "3.7.4"
  }
 },
 "nbformat": 4,
 "nbformat_minor": 2
}
